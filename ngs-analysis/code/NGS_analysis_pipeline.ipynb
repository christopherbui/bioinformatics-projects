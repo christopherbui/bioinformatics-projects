{
 "cells": [
  {
   "cell_type": "markdown",
   "metadata": {},
   "source": [
    "# Next Generation Sequencing Analysis Pipeline In Python"
   ]
  },
  {
   "cell_type": "markdown",
   "metadata": {},
   "source": [
    "In this notebook, we'll demonstrate automating an end-to-end NGS sequencing analysis pipeline using Python and associated libraries.\n",
    "\n",
    "The basic steps are:\n",
    "\n",
    "1. Download Sequencing Data\n",
    "2. Quality Control\n",
    "3. Data Preprocessing\n",
    "4. Read Alignment\n",
    "5. Convert SAM to BAM and Sort\n",
    "6. Variant Calling\n",
    "7. Annotation\n",
    "8. Visualization & reporting"
   ]
  },
  {
   "cell_type": "code",
   "execution_count": 2,
   "metadata": {},
   "outputs": [],
   "source": [
    "import os\n",
    "import subprocess\n",
    "from pathlib import Path\n",
    "from typing import Union"
   ]
  },
  {
   "cell_type": "markdown",
   "metadata": {},
   "source": [
    "# Download Data\n",
    "\n",
    "We'll use E. Coli as the genome of choice for its simplicity and low memory footprint for efficient demonstration.\n",
    "\n",
    "**SRA Database**: https://www.ncbi.nlm.nih.gov/sra\n",
    "\n",
    "**E. Coli Sequencing Run ID**: SRR31041149"
   ]
  },
  {
   "cell_type": "code",
   "execution_count": 34,
   "metadata": {},
   "outputs": [],
   "source": [
    "sra_id = 'SRR31041149'\n",
    "DATA_DIR = Path('../data')"
   ]
  },
  {
   "cell_type": "code",
   "execution_count": 35,
   "metadata": {},
   "outputs": [],
   "source": [
    "def download_sra_data(sra_id: str, DATA_DIR):\n",
    "    \"\"\"\n",
    "    Download SRA data using SRA Toolkit\n",
    "\n",
    "    Parameters:\n",
    "        sra_id (str): Accession id of sequence\n",
    "        DATA_DIR: Output directory\n",
    "    \"\"\"\n",
    "    try:\n",
    "        print(f'Downloading {sra_id}...')\n",
    "        # use 'prefetch' command to download .sra file\n",
    "        subprocess.run(f'prefetch {sra_id} -O {DATA_DIR}', shell=True, check=True)\n",
    "\n",
    "        # convert .sra to .fastq using fastq-dump\n",
    "        sra_file = f'{DATA_DIR}/{sra_id}/{sra_id}.sra'\n",
    "        subprocess.run(f'fastq-dump --split-files {sra_file} -O {DATA_DIR}', shell=True, check=True)\n",
    "\n",
    "        print(f'Downloaded and converted {sra_id} to FASTQ format.')\n",
    "    except subprocess.CalledProcessError as e:\n",
    "        print(f'Error during dowload or conversion: {e}')"
   ]
  },
  {
   "cell_type": "code",
   "execution_count": 37,
   "metadata": {},
   "outputs": [
    {
     "name": "stdout",
     "output_type": "stream",
     "text": [
      "2024-10-20T04:08:50 prefetch.3.1.1: 1) Resolving 'SRR31041149'...\n",
      "2024-10-20T04:08:51 prefetch.3.1.1: Current preference is set to retrieve SRA Normalized Format files with full base quality scores\n",
      "2024-10-20T04:08:52 prefetch.3.1.1: 1) 'SRR31041149' is found locally \n",
      "2024-10-20T04:08:52 prefetch.3.1.1: 'SRR31041149' has 0 unresolved dependencies\n"
     ]
    },
    {
     "data": {
      "text/plain": [
       "CompletedProcess(args='prefetch SRR31041149 -O ../data', returncode=0)"
      ]
     },
     "execution_count": 37,
     "metadata": {},
     "output_type": "execute_result"
    }
   ],
   "source": [
    "subprocess.run(f'prefetch {sra_id} -O {DATA_DIR}', shell=True, check=True)"
   ]
  },
  {
   "cell_type": "markdown",
   "metadata": {},
   "source": [
    "# Quality Control Using FastQC"
   ]
  },
  {
   "cell_type": "markdown",
   "metadata": {},
   "source": [
    "We need to convert the downloaded `.sra` file to a `.fastq` format. Use `fastq-dump` from **SRA Toolkit** for this task."
   ]
  },
  {
   "cell_type": "code",
   "execution_count": 38,
   "metadata": {},
   "outputs": [],
   "source": [
    "def convert_sra_to_fastq(sra_file: Union[str, Path], output_dir: Union[str, Path]) -> None:\n",
    "    \"\"\"\n",
    "    Converts an SRA file to FASTQ format using fastq-dump\n",
    "\n",
    "    Parameters:\n",
    "        sra_file (str or Path): Path to input .sra file.\n",
    "        output_dir (str or Path): Directory to save FASTQ files.\n",
    "    \n",
    "    Return:\n",
    "        None\n",
    "    \"\"\"\n",
    "    # ensure output directory exists\n",
    "    Path(output_dir).mkdir(parents=True, exist_ok=True)\n",
    "\n",
    "    try:\n",
    "        print(f'Converting {sra_file} to FASTQ...')\n",
    "        cmd = f'fastq-dump --split-files --outdir {output_dir} {sra_file}'\n",
    "        subprocess.run(cmd, shell=True, check=True)\n",
    "        print('Conversion completed.')\n",
    "    except subprocess.CalledProcessError as e:\n",
    "        print(f'Error during conversion: {e}')"
   ]
  },
  {
   "cell_type": "code",
   "execution_count": 39,
   "metadata": {},
   "outputs": [
    {
     "name": "stdout",
     "output_type": "stream",
     "text": [
      "Converting ../data/SRR31041149/SRR31041149.sra to FASTQ...\n",
      "Read 1127165 spots for ../data/SRR31041149/SRR31041149.sra\n",
      "Written 1127165 spots for ../data/SRR31041149/SRR31041149.sra\n",
      "Conversion completed.\n"
     ]
    }
   ],
   "source": [
    "# convert sra to fastq\n",
    "sra_file = DATA_DIR / sra_id / (sra_id + '.sra')\n",
    "convert_sra_to_fastq(sra_file=sra_file, output_dir=DATA_DIR)\n"
   ]
  },
  {
   "cell_type": "markdown",
   "metadata": {},
   "source": [
    "For paired-end reads, the output above will yield 2 `.fastq` files. One file corresponds to the forward read, and the other to the reverse read."
   ]
  },
  {
   "cell_type": "code",
   "execution_count": 40,
   "metadata": {},
   "outputs": [],
   "source": [
    "def run_fastqc(input_file: Union[str, Path], output_dir: Union[str, Path]) -> None:\n",
    "    \"\"\"\n",
    "    Run FastQC on the input FASTQ file and stores results in output directory\n",
    "\n",
    "    Parameters:\n",
    "        input_file (str or Path): Path to input FASTQ file.\n",
    "        output_dir (str or Path): Directory to save FastQC report.\n",
    "    \n",
    "    Return:\n",
    "        None\n",
    "    \"\"\"\n",
    "    # create output directory if it doesn't exist\n",
    "    Path(output_dir).mkdir(parents=True, exist_ok=True)\n",
    "\n",
    "    # run FastQC command\n",
    "    try:\n",
    "        print(f'Running FastQC on {input_file}...')\n",
    "        cmd = f'fastqc {input_file} -o {output_dir}'\n",
    "        subprocess.run(cmd, shell=True, check=True)\n",
    "        print(f'FastQC report saved in {output_dir}')\n",
    "    except subprocess.CalledProcessError as e:\n",
    "        print(f'Error running FastQC: {e}')\n"
   ]
  },
  {
   "cell_type": "code",
   "execution_count": 41,
   "metadata": {},
   "outputs": [
    {
     "name": "stdout",
     "output_type": "stream",
     "text": [
      "Running FastQC on ../data/SRR31041149_1.fastq...\n",
      "null\n"
     ]
    },
    {
     "name": "stderr",
     "output_type": "stream",
     "text": [
      "Started analysis of SRR31041149_1.fastq\n",
      "Approx 5% complete for SRR31041149_1.fastq\n",
      "Approx 10% complete for SRR31041149_1.fastq\n",
      "Approx 15% complete for SRR31041149_1.fastq\n",
      "Approx 20% complete for SRR31041149_1.fastq\n",
      "Approx 25% complete for SRR31041149_1.fastq\n",
      "Approx 30% complete for SRR31041149_1.fastq\n",
      "Approx 35% complete for SRR31041149_1.fastq\n",
      "Approx 40% complete for SRR31041149_1.fastq\n",
      "Approx 45% complete for SRR31041149_1.fastq\n",
      "Approx 50% complete for SRR31041149_1.fastq\n",
      "Approx 55% complete for SRR31041149_1.fastq\n",
      "Approx 60% complete for SRR31041149_1.fastq\n",
      "Approx 65% complete for SRR31041149_1.fastq\n",
      "Approx 70% complete for SRR31041149_1.fastq\n",
      "Approx 75% complete for SRR31041149_1.fastq\n",
      "Approx 80% complete for SRR31041149_1.fastq\n",
      "Approx 85% complete for SRR31041149_1.fastq\n",
      "Approx 90% complete for SRR31041149_1.fastq\n",
      "Approx 95% complete for SRR31041149_1.fastq\n"
     ]
    },
    {
     "name": "stdout",
     "output_type": "stream",
     "text": [
      "Analysis complete for SRR31041149_1.fastq\n"
     ]
    },
    {
     "name": "stderr",
     "output_type": "stream",
     "text": [
      "Warning: the fonts \"Times\" and \"Times\" are not available for the Java logical font \"Serif\", which may have unexpected appearance or behavior. Re-enable the \"Times\" font to remove this warning.\n"
     ]
    },
    {
     "name": "stdout",
     "output_type": "stream",
     "text": [
      "FastQC report saved in ../data/results/qc\n",
      "Running FastQC on ../data/SRR31041149_2.fastq...\n",
      "null\n"
     ]
    },
    {
     "name": "stderr",
     "output_type": "stream",
     "text": [
      "Started analysis of SRR31041149_2.fastq\n",
      "Approx 5% complete for SRR31041149_2.fastq\n",
      "Approx 10% complete for SRR31041149_2.fastq\n",
      "Approx 15% complete for SRR31041149_2.fastq\n",
      "Approx 20% complete for SRR31041149_2.fastq\n",
      "Approx 25% complete for SRR31041149_2.fastq\n",
      "Approx 30% complete for SRR31041149_2.fastq\n",
      "Approx 35% complete for SRR31041149_2.fastq\n",
      "Approx 40% complete for SRR31041149_2.fastq\n",
      "Approx 45% complete for SRR31041149_2.fastq\n",
      "Approx 50% complete for SRR31041149_2.fastq\n",
      "Approx 55% complete for SRR31041149_2.fastq\n",
      "Approx 60% complete for SRR31041149_2.fastq\n",
      "Approx 65% complete for SRR31041149_2.fastq\n",
      "Approx 70% complete for SRR31041149_2.fastq\n",
      "Approx 75% complete for SRR31041149_2.fastq\n",
      "Approx 80% complete for SRR31041149_2.fastq\n",
      "Approx 85% complete for SRR31041149_2.fastq\n",
      "Approx 90% complete for SRR31041149_2.fastq\n",
      "Approx 95% complete for SRR31041149_2.fastq\n"
     ]
    },
    {
     "name": "stdout",
     "output_type": "stream",
     "text": [
      "Analysis complete for SRR31041149_2.fastq\n"
     ]
    },
    {
     "name": "stderr",
     "output_type": "stream",
     "text": [
      "Warning: the fonts \"Times\" and \"Times\" are not available for the Java logical font \"Serif\", which may have unexpected appearance or behavior. Re-enable the \"Times\" font to remove this warning.\n"
     ]
    },
    {
     "name": "stdout",
     "output_type": "stream",
     "text": [
      "FastQC report saved in ../data/results/qc\n"
     ]
    }
   ],
   "source": [
    "# run fastqc analysis\n",
    "\n",
    "input_files = [DATA_DIR / (sra_id + '_1.fastq'), DATA_DIR / (sra_id + '_2.fastq')]\n",
    "QC_OUTPUT_DIR = DATA_DIR / 'results/qc'\n",
    "\n",
    "for fastq_file in input_files:\n",
    "    run_fastqc(fastq_file, QC_OUTPUT_DIR)\n",
    "\n"
   ]
  },
  {
   "cell_type": "markdown",
   "metadata": {},
   "source": [
    "A report of quality statistics are presented within the output HTML files for each pair-end read.\n",
    "\n",
    "**Interpreting the HTML Report**\n",
    "1. **Per Base Sequence Quality**: Shows box and whisker plot of quality score for each base\n",
    "2. **GC Content**: Verify if it matches expectations (i.e. ~50% if using an E. coli SRR accession)\n",
    "3. **Adapter Content**: Alerts of adapter presence; Will trim them in the *Trimming and Filtering* step\n",
    "4. **Sequence Duplication**: high levels of duplication might indicate PCR bias"
   ]
  },
  {
   "cell_type": "markdown",
   "metadata": {},
   "source": [
    "# Data Processing (Trimming and Filtering)\n",
    "\n",
    "After generating the HTML report with `fastqc` and if adapter contamination is present, we can apply the `trimmomatic` from the SRA Toolkit to remove adapters or low-qality bases at the sequence ends."
   ]
  },
  {
   "cell_type": "code",
   "execution_count": 42,
   "metadata": {},
   "outputs": [],
   "source": [
    "def run_trimmomatic(forward_file: Union[str, Path],\n",
    "                    reverse_file: Union[str, Path],\n",
    "                    output_dir: Union[str, Path],\n",
    "                    trimmomatic_path: Union[str, Path],\n",
    "                    adapter='TruSeq3-PE.fa') -> None:\n",
    "    \"\"\"\n",
    "    Run Trimmomatic to trim adapters and filter low-quality reads\n",
    "\n",
    "    Parameters:\n",
    "        forward_file (str or Path): Path to the forward reads FASTQ file.\n",
    "        reverse_file (str or Path): Path to the reverse reads FASTQ file.\n",
    "        output_dir (str or Path): Directory to save trimmed FASTQ files.\n",
    "        trimmomatic_path (str or Path): Path to trimmomatic.jar file.\n",
    "    \n",
    "    Return:\n",
    "        None\n",
    "    \"\"\"\n",
    "    # create output directory if it doesn't exist\n",
    "    Path(output_dir).mkdir(parents=True, exist_ok=True)\n",
    "\n",
    "    # adapter file\n",
    "    adapter_file = f'/Users/Akechi/Downloads/Trimmomatic-0.39/adapters/{adapter}'\n",
    "\n",
    "    cmd = f\"java -jar {trimmomatic_path} PE {forward_file} {reverse_file} {output_dir}/trimmed_1P.fastq {output_dir}/unpaired_1U.fastq {output_dir}/trimmed_2P.fastq {output_dir}/unpaired_2U.fastq ILLUMINACLIP:{adapter_file}:2:30:10 SLIDINGWINDOW:4:20 MINLEN:50\"\n",
    "    try:\n",
    "        print(f'Running Trimmomatic on {forward_file} and {reverse_file}...')\n",
    "        subprocess.run(cmd, shell=True, check=True)\n",
    "    except subprocess.CalledProcessError as e:\n",
    "        print(f'Error running Trimmomatic: {e}')"
   ]
  },
  {
   "cell_type": "code",
   "execution_count": 43,
   "metadata": {},
   "outputs": [
    {
     "name": "stdout",
     "output_type": "stream",
     "text": [
      "Running Trimmomatic on ../data/SRR31041149_1.fastq and ../data/SRR31041149_2.fastq...\n"
     ]
    },
    {
     "name": "stderr",
     "output_type": "stream",
     "text": [
      "TrimmomaticPE: Started with arguments:\n",
      " ../data/SRR31041149_1.fastq ../data/SRR31041149_2.fastq ../data/results/trimmed_1P.fastq ../data/results/unpaired_1U.fastq ../data/results/trimmed_2P.fastq ../data/results/unpaired_2U.fastq ILLUMINACLIP:/Users/Akechi/Downloads/Trimmomatic-0.39/adapters/TruSeq3-PE.fa:2:30:10 SLIDINGWINDOW:4:20 MINLEN:50\n",
      "Using PrefixPair: 'TACACTCTTTCCCTACACGACGCTCTTCCGATCT' and 'GTGACTGGAGTTCAGACGTGTGCTCTTCCGATCT'\n",
      "ILLUMINACLIP: Using 1 prefix pairs, 0 forward/reverse sequences, 0 forward only sequences, 0 reverse only sequences\n",
      "Quality encoding detected as phred33\n",
      "Input Read Pairs: 1127165 Both Surviving: 1020543 (90.54%) Forward Only Surviving: 69010 (6.12%) Reverse Only Surviving: 11107 (0.99%) Dropped: 26505 (2.35%)\n",
      "TrimmomaticPE: Completed successfully\n"
     ]
    }
   ],
   "source": [
    "# run trimmomatic\n",
    "forward_file = f'../data/{sra_id}_1.fastq'\n",
    "reverse_file = f'../data/{sra_id}_2.fastq'\n",
    "output_dir = DATA_DIR / 'results/trim-and-filter'\n",
    "trimmomatic_path = f'~/Downloads/Trimmomatic-0.39/trimmomatic-0.39.jar'\n",
    "\n",
    "run_trimmomatic(f'../data/{sra_id}_1.fastq', f'../data/{sra_id}_2.fastq', output_dir=output_dir, trimmomatic_path=trimmomatic_path)\n"
   ]
  },
  {
   "cell_type": "markdown",
   "metadata": {},
   "source": [
    "# Align Reads to Reference Genome\n",
    "\n",
    "Since we used a sequence from E. Coli, we need to download an E. Coli reference genome to align our reads in the trimmed, paired FASTQ files to.\n",
    "\n",
    "E. Coli Reference Genome:\n",
    "- https://ftp.ncbi.nlm.nih.gov/genomes/all/GCF/000/005/845/GCF_000005845.2_ASM584v2/"
   ]
  },
  {
   "cell_type": "markdown",
   "metadata": {},
   "source": [
    "## Download Reference Genome"
   ]
  },
  {
   "cell_type": "code",
   "execution_count": 44,
   "metadata": {},
   "outputs": [],
   "source": [
    "def get_reference_sequence(ftp_url: str, output_dir: Union[str, Path]) -> None:\n",
    "    \"\"\"\n",
    "    Downloads reference sequence using FTP protocol\n",
    "\n",
    "    Parameters:\n",
    "        ftp_url (str): Url to reference sequence.\n",
    "        output_dir (str or Path): Output directory.\n",
    "    \n",
    "    Return:\n",
    "        None\n",
    "    \"\"\"\n",
    "    # get zip file name\n",
    "    zip_file = ftp_url.split('/')[-1]\n",
    "\n",
    "    # make output directory if it doesn't exist\n",
    "    Path(output_dir).mkdir(parents=True, exist_ok=True)\n",
    "\n",
    "    # change into output directory, download reference sequence, and unzip\n",
    "    cmd = f'cd {output_dir} && wget {ftp_url} && gunzip {zip_file}'\n",
    "    try:\n",
    "        print(f'Downloading reference genome...')\n",
    "        subprocess.run(cmd, shell=True, check=True)\n",
    "    except subprocess.CalledProcessError as e:\n",
    "        print(f'Error downloading reference genomd: {e}')\n",
    "    "
   ]
  },
  {
   "cell_type": "code",
   "execution_count": 45,
   "metadata": {},
   "outputs": [
    {
     "name": "stdout",
     "output_type": "stream",
     "text": [
      "Downloading reference genome...\n"
     ]
    },
    {
     "name": "stderr",
     "output_type": "stream",
     "text": [
      "--2024-10-19 21:09:52--  ftp://ftp.ncbi.nlm.nih.gov/genomes/all/GCF/000/005/845/GCF_000005845.2_ASM584v2/GCF_000005845.2_ASM584v2_genomic.fna.gz\n",
      "           => ‘GCF_000005845.2_ASM584v2_genomic.fna.gz’\n",
      "Resolving ftp.ncbi.nlm.nih.gov (ftp.ncbi.nlm.nih.gov)... 130.14.250.10, 130.14.250.11, 130.14.250.13, ...\n",
      "Connecting to ftp.ncbi.nlm.nih.gov (ftp.ncbi.nlm.nih.gov)|130.14.250.10|:21... connected.\n",
      "Logging in as anonymous ... Logged in!\n",
      "==> SYST ... done.    ==> PWD ... done.\n",
      "==> TYPE I ... done.  ==> CWD (1) /genomes/all/GCF/000/005/845/GCF_000005845.2_ASM584v2 ... done.\n",
      "==> SIZE GCF_000005845.2_ASM584v2_genomic.fna.gz ... 1379902\n",
      "==> PASV ... done.    ==> RETR GCF_000005845.2_ASM584v2_genomic.fna.gz ... done.\n",
      "Length: 1379902 (1.3M) (unauthoritative)\n",
      "\n",
      "     0K .......... .......... .......... .......... ..........  3%  292K 4s\n",
      "    50K .......... .......... .......... .......... ..........  7%  718K 3s\n",
      "   100K .......... .......... .......... .......... .......... 11% 9.05M 2s\n",
      "   150K .......... .......... .......... .......... .......... 14% 23.2M 1s\n",
      "   200K .......... .......... .......... .......... .......... 18%  699K 1s\n",
      "   250K .......... .......... .......... .......... .......... 22% 35.3M 1s\n",
      "   300K .......... .......... .......... .......... .......... 25% 42.9M 1s\n",
      "   350K .......... .......... .......... .......... .......... 29% 21.6M 1s\n",
      "   400K .......... .......... .......... .......... .......... 33%  754K 1s\n",
      "   450K .......... .......... .......... .......... .......... 37% 9.84M 1s\n",
      "   500K .......... .......... .......... .......... .......... 40% 6.61M 1s\n",
      "   550K .......... .......... .......... .......... .......... 44% 1000K 1s\n",
      "   600K .......... .......... .......... .......... .......... 48%  373M 0s\n",
      "   650K .......... .......... .......... .......... .......... 51% 44.6M 0s\n",
      "   700K .......... .......... .......... .......... .......... 55%  456M 0s\n",
      "   750K .......... .......... .......... .......... .......... 59% 1000K 0s\n",
      "   800K .......... .......... .......... .......... .......... 63%  974K 0s\n",
      "   850K .......... .......... .......... .......... .......... 66% 6.78M 0s\n",
      "   900K .......... .......... .......... .......... .......... 70% 5.04M 0s\n",
      "   950K .......... .......... .......... .......... .......... 74% 12.6M 0s\n",
      "  1000K .......... .......... .......... .......... .......... 77% 1000K 0s\n",
      "  1050K .......... .......... .......... .......... .......... 81% 44.5M 0s\n",
      "  1100K .......... .......... .......... .......... .......... 85% 80.0M 0s\n",
      "  1150K .......... .......... .......... .......... .......... 89% 58.4M 0s\n",
      "  1200K .......... .......... .......... .......... .......... 92% 48.0M 0s\n",
      "  1250K .......... .......... .......... .......... .......... 96%  131M 0s\n",
      "  1300K .......... .......... .......... .......... .......   100% 33.4M=0.5s\n",
      "\n",
      "2024-10-19 21:09:54 (2.73 MB/s) - ‘GCF_000005845.2_ASM584v2_genomic.fna.gz’ saved [1379902]\n",
      "\n"
     ]
    }
   ],
   "source": [
    "# download reference genomd\n",
    "ref_genome_url = 'ftp://ftp.ncbi.nlm.nih.gov/genomes/all/GCF/000/005/845/GCF_000005845.2_ASM584v2/GCF_000005845.2_ASM584v2_genomic.fna.gz'\n",
    "output_dir = '../reference_genome'\n",
    "\n",
    "get_reference_sequence(ref_genome_url, output_dir=output_dir)"
   ]
  },
  {
   "cell_type": "markdown",
   "metadata": {},
   "source": [
    "## Index Reference Genome\n",
    "\n",
    "We need to index the reference genome so that the alignment software can perform alignment with the trimmed, paired reads faster. If not, then it would have to linearly scan entire reference genome for every read.\n",
    "\n",
    "**Indexing Steps**:\n",
    "1. Break reference genome into subsequences\n",
    "2. Create hash table for the positions of these fragments\n",
    "3. Compress & store auxiliary data to optimize searching\n",
    "\n",
    "Index files allow alignment software to perform fast lookups and avoid linear searching for every read\n",
    "\n",
    "**Common Indexing Tools**:\n",
    "- BWA\n",
    "- Bowtie2\n",
    "- SAMtools"
   ]
  },
  {
   "cell_type": "code",
   "execution_count": 59,
   "metadata": {},
   "outputs": [],
   "source": [
    "def index_reference_genome(reference_genome: Union[str, Path], bwa_path: Union[str, Path]) -> None:\n",
    "    \"\"\"\n",
    "    Indexes a reference genome using BWA.\n",
    "\n",
    "    Parameters:\n",
    "        reference_genome (str or Path): Path to reference genome in FASTA format.\n",
    "        bwa_path (str or Path): Path to BWA executable\n",
    "    \n",
    "    Return:\n",
    "        None\n",
    "    \"\"\"\n",
    "    # ensure input FASTA file exists\n",
    "    reference_genome = Path(reference_genome)\n",
    "    if not reference_genome.is_file():\n",
    "        raise FileNotFoundError(f'FASTA file not found: {reference_genome}')\n",
    "    \n",
    "    # index command\n",
    "    cmd = f'{bwa_path} index {str(reference_genome)}'\n",
    "\n",
    "    # perform indexing\n",
    "    try:\n",
    "        print(f'Indexing reference genome: {reference_genome.name}')\n",
    "        subprocess.run(cmd, shell=True, check=True)\n",
    "    except subprocess.CalledProcessError as e:\n",
    "        print(f'Error during genome indexing: {e}')"
   ]
  },
  {
   "cell_type": "code",
   "execution_count": 58,
   "metadata": {},
   "outputs": [
    {
     "name": "stdout",
     "output_type": "stream",
     "text": [
      "Indexing reference genome: GCF_000005845.2_ASM584v2_genomic.fna\n"
     ]
    },
    {
     "name": "stderr",
     "output_type": "stream",
     "text": [
      "[bwa_index] Pack FASTA... 0.02 sec\n",
      "[bwa_index] Construct BWT for the packed sequence...\n",
      "[bwa_index] 0.50 seconds elapse.\n",
      "[bwa_index] Update BWT... 0.01 sec\n",
      "[bwa_index] Pack forward-only FASTA... 0.01 sec\n",
      "[bwa_index] Construct SA from BWT and Occ... 0.16 sec\n",
      "[main] Version: 0.7.18-r1243-dirty\n",
      "[main] CMD: /Users/akechi/Downloads/bwa/bwa index ../reference_genome/GCF_000005845.2_ASM584v2_genomic.fna\n",
      "[main] Real time: 0.697 sec; CPU: 0.699 sec\n"
     ]
    }
   ],
   "source": [
    "# index reference genome\n",
    "reference_genome = f'../reference_genome/GCF_000005845.2_ASM584v2_genomic.fna'\n",
    "bwa_path = Path.home() / 'Downloads/bwa/bwa'\n",
    "\n",
    "index_reference_genome(fasta_file=reference_genome, bwa_path=bwa_path)"
   ]
  },
  {
   "cell_type": "markdown",
   "metadata": {},
   "source": [
    "## Align The Reads To Reference Genome"
   ]
  },
  {
   "cell_type": "code",
   "execution_count": 69,
   "metadata": {},
   "outputs": [],
   "source": [
    "def align_reads_with_bwa(reference_genome: Union[str, Path],\n",
    "                         read_1: Union[str, Path],\n",
    "                         read_2: Union[str, Path]=None,\n",
    "                         output_file: Union[str, Path]='aligned.sam',\n",
    "                         bwa_path: Union[str, Path]='bwa') -> None:\n",
    "    \"\"\"\n",
    "    Aligns reads to reference genome using BWA-MEM\n",
    "\n",
    "    Parameters:\n",
    "        reference_genome (str or Path): Path to the INDEXED reference genome in FASTA format.\n",
    "        read_1 (str or Path): Path to the first FASTQ file (for single-ed or paired-end reads).\n",
    "        read_2 (str or Path): Path to the second FASTQ file (for paired-end reads).\n",
    "        output_file (str or Path): Path to the output SAM file (default: 'aligned.sam').\n",
    "        bwa_path (str or Path): Path to the BWA executable (default: 'bwa' if in PATH).\n",
    "    \n",
    "    Return:\n",
    "        None\n",
    "    \"\"\"\n",
    "    # make output directory if it doesn't exist\n",
    "    output_file = Path(output_file)\n",
    "    output_file.parent.mkdir(parents=True, exist_ok=True)\n",
    "\n",
    "    # ensure input files exist\n",
    "    reference_genome = Path(reference_genome)\n",
    "    read_1 = Path(read_1)\n",
    "    if not reference_genome.is_file():\n",
    "        raise FileNotFoundError(f'Reference genome not found: {reference_genome}')\n",
    "    if not read_1.is_file():\n",
    "        raise FileNotFoundError(f'FASTQ file not found: {read_1}')\n",
    "    if read_2:\n",
    "        read_2 = Path(read_2)\n",
    "        if not read_2.is_file():\n",
    "            raise FileNotFoundError(f'FASTQ file not found: {read_2}')\n",
    "    \n",
    "    # build BWA-MEM command\n",
    "    # paired-end alignment\n",
    "    if read_2:\n",
    "        cmd = f'{bwa_path} mem {reference_genome} {read_1} {read_2}'\n",
    "    else:\n",
    "        # single-end alignment\n",
    "        cmd = f'{bwa_path} mem {reference_genome} {read_1}'\n",
    "    \n",
    "    # run BWA-MEM\n",
    "    try:\n",
    "        print('Aligning reads with BWA-MEM...')\n",
    "        with output_file.open('w') as sam_file:\n",
    "            subprocess.run(cmd, stdout=sam_file, shell=True, check=True)\n",
    "        print(f'Alignment completed. SAM file saved at: {output_file}')\n",
    "    except subprocess.CalledProcessError as e:\n",
    "        print(f'Error during alignment: {e}')"
   ]
  },
  {
   "cell_type": "code",
   "execution_count": 70,
   "metadata": {},
   "outputs": [
    {
     "name": "stdout",
     "output_type": "stream",
     "text": [
      "Aligning reads with BWA-MEM...\n"
     ]
    },
    {
     "name": "stderr",
     "output_type": "stream",
     "text": [
      "shell-init: error retrieving current directory: getcwd: cannot access parent directories: No such file or directory\n",
      "[M::bwa_idx_load_from_disk] read 0 ALT contigs\n",
      "[M::process] read 71828 sequences (10000081 bp)...\n",
      "[M::process] read 71834 sequences (10000276 bp)...\n",
      "[M::mem_pestat] # candidate unique pairs for (FF, FR, RF, RR): (2, 27188, 5, 1)\n",
      "[M::mem_pestat] skip orientation FF as there are not enough pairs\n",
      "[M::mem_pestat] analyzing insert size distribution for orientation FR...\n",
      "[M::mem_pestat] (25, 50, 75) percentile: (158, 234, 337)\n",
      "[M::mem_pestat] low and high boundaries for computing mean and std.dev: (1, 695)\n",
      "[M::mem_pestat] mean and std.dev: (256.14, 131.51)\n",
      "[M::mem_pestat] low and high boundaries for proper pairs: (1, 874)\n",
      "[M::mem_pestat] skip orientation RF as there are not enough pairs\n",
      "[M::mem_pestat] skip orientation RR as there are not enough pairs\n",
      "[M::mem_process_seqs] Processed 71828 reads in 1.868 CPU sec, 1.842 real sec\n",
      "[M::process] read 71634 sequences (10000088 bp)...\n",
      "[M::mem_pestat] # candidate unique pairs for (FF, FR, RF, RR): (2, 27098, 4, 2)\n",
      "[M::mem_pestat] skip orientation FF as there are not enough pairs\n",
      "[M::mem_pestat] analyzing insert size distribution for orientation FR...\n",
      "[M::mem_pestat] (25, 50, 75) percentile: (157, 233, 339)\n",
      "[M::mem_pestat] low and high boundaries for computing mean and std.dev: (1, 703)\n",
      "[M::mem_pestat] mean and std.dev: (255.86, 132.19)\n",
      "[M::mem_pestat] low and high boundaries for proper pairs: (1, 885)\n",
      "[M::mem_pestat] skip orientation RF as there are not enough pairs\n",
      "[M::mem_pestat] skip orientation RR as there are not enough pairs\n",
      "[M::mem_process_seqs] Processed 71834 reads in 1.815 CPU sec, 1.757 real sec\n",
      "[M::process] read 71964 sequences (10000016 bp)...\n",
      "[M::mem_pestat] # candidate unique pairs for (FF, FR, RF, RR): (1, 27097, 1, 0)\n",
      "[M::mem_pestat] skip orientation FF as there are not enough pairs\n",
      "[M::mem_pestat] analyzing insert size distribution for orientation FR...\n",
      "[M::mem_pestat] (25, 50, 75) percentile: (157, 233, 337)\n",
      "[M::mem_pestat] low and high boundaries for computing mean and std.dev: (1, 697)\n",
      "[M::mem_pestat] mean and std.dev: (254.83, 130.44)\n",
      "[M::mem_pestat] low and high boundaries for proper pairs: (1, 877)\n",
      "[M::mem_pestat] skip orientation RF as there are not enough pairs\n",
      "[M::mem_pestat] skip orientation RR as there are not enough pairs\n",
      "[M::mem_process_seqs] Processed 71634 reads in 1.842 CPU sec, 1.782 real sec\n",
      "[M::process] read 71674 sequences (10000002 bp)...\n",
      "[M::mem_pestat] # candidate unique pairs for (FF, FR, RF, RR): (0, 27357, 2, 1)\n",
      "[M::mem_pestat] skip orientation FF as there are not enough pairs\n",
      "[M::mem_pestat] analyzing insert size distribution for orientation FR...\n",
      "[M::mem_pestat] (25, 50, 75) percentile: (155, 230, 331)\n",
      "[M::mem_pestat] low and high boundaries for computing mean and std.dev: (1, 683)\n",
      "[M::mem_pestat] mean and std.dev: (251.91, 128.84)\n",
      "[M::mem_pestat] low and high boundaries for proper pairs: (1, 859)\n",
      "[M::mem_pestat] skip orientation RF as there are not enough pairs\n",
      "[M::mem_pestat] skip orientation RR as there are not enough pairs\n",
      "[M::mem_process_seqs] Processed 71964 reads in 1.835 CPU sec, 1.775 real sec\n",
      "[M::process] read 71800 sequences (10000008 bp)...\n",
      "[M::mem_pestat] # candidate unique pairs for (FF, FR, RF, RR): (3, 27096, 1, 0)\n",
      "[M::mem_pestat] skip orientation FF as there are not enough pairs\n",
      "[M::mem_pestat] analyzing insert size distribution for orientation FR...\n",
      "[M::mem_pestat] (25, 50, 75) percentile: (156, 232, 334)\n",
      "[M::mem_pestat] low and high boundaries for computing mean and std.dev: (1, 690)\n",
      "[M::mem_pestat] mean and std.dev: (252.56, 129.49)\n",
      "[M::mem_pestat] low and high boundaries for proper pairs: (1, 868)\n",
      "[M::mem_pestat] skip orientation RF as there are not enough pairs\n",
      "[M::mem_pestat] skip orientation RR as there are not enough pairs\n",
      "[M::mem_process_seqs] Processed 71674 reads in 1.883 CPU sec, 1.823 real sec\n",
      "[M::process] read 71698 sequences (10000116 bp)...\n",
      "[M::mem_pestat] # candidate unique pairs for (FF, FR, RF, RR): (0, 27155, 4, 1)\n",
      "[M::mem_pestat] skip orientation FF as there are not enough pairs\n",
      "[M::mem_pestat] analyzing insert size distribution for orientation FR...\n",
      "[M::mem_pestat] (25, 50, 75) percentile: (155, 230, 333)\n",
      "[M::mem_pestat] low and high boundaries for computing mean and std.dev: (1, 689)\n",
      "[M::mem_pestat] mean and std.dev: (251.85, 129.85)\n",
      "[M::mem_pestat] low and high boundaries for proper pairs: (1, 867)\n",
      "[M::mem_pestat] skip orientation RF as there are not enough pairs\n",
      "[M::mem_pestat] skip orientation RR as there are not enough pairs\n",
      "[M::mem_process_seqs] Processed 71800 reads in 2.020 CPU sec, 1.960 real sec\n",
      "[M::process] read 72202 sequences (10000029 bp)...\n",
      "[M::mem_pestat] # candidate unique pairs for (FF, FR, RF, RR): (0, 27106, 2, 0)\n",
      "[M::mem_pestat] skip orientation FF as there are not enough pairs\n",
      "[M::mem_pestat] analyzing insert size distribution for orientation FR...\n",
      "[M::mem_pestat] (25, 50, 75) percentile: (155, 233, 337)\n",
      "[M::mem_pestat] low and high boundaries for computing mean and std.dev: (1, 701)\n",
      "[M::mem_pestat] mean and std.dev: (254.88, 132.16)\n",
      "[M::mem_pestat] low and high boundaries for proper pairs: (1, 883)\n",
      "[M::mem_pestat] skip orientation RF as there are not enough pairs\n",
      "[M::mem_pestat] skip orientation RR as there are not enough pairs\n",
      "[M::mem_process_seqs] Processed 71698 reads in 1.813 CPU sec, 1.755 real sec\n",
      "[M::process] read 71794 sequences (10000241 bp)...\n",
      "[M::mem_pestat] # candidate unique pairs for (FF, FR, RF, RR): (3, 27340, 0, 1)\n",
      "[M::mem_pestat] skip orientation FF as there are not enough pairs\n",
      "[M::mem_pestat] analyzing insert size distribution for orientation FR...\n",
      "[M::mem_pestat] (25, 50, 75) percentile: (156, 231, 335)\n",
      "[M::mem_pestat] low and high boundaries for computing mean and std.dev: (1, 693)\n",
      "[M::mem_pestat] mean and std.dev: (253.85, 129.85)\n",
      "[M::mem_pestat] low and high boundaries for proper pairs: (1, 872)\n",
      "[M::mem_pestat] skip orientation RF as there are not enough pairs\n",
      "[M::mem_pestat] skip orientation RR as there are not enough pairs\n",
      "[M::mem_process_seqs] Processed 72202 reads in 1.809 CPU sec, 1.750 real sec\n",
      "[M::process] read 71904 sequences (10000214 bp)...\n",
      "[M::mem_pestat] # candidate unique pairs for (FF, FR, RF, RR): (2, 27080, 6, 1)\n",
      "[M::mem_pestat] skip orientation FF as there are not enough pairs\n",
      "[M::mem_pestat] analyzing insert size distribution for orientation FR...\n",
      "[M::mem_pestat] (25, 50, 75) percentile: (157, 232, 336)\n",
      "[M::mem_pestat] low and high boundaries for computing mean and std.dev: (1, 694)\n",
      "[M::mem_pestat] mean and std.dev: (254.71, 130.42)\n",
      "[M::mem_pestat] low and high boundaries for proper pairs: (1, 873)\n",
      "[M::mem_pestat] skip orientation RF as there are not enough pairs\n",
      "[M::mem_pestat] skip orientation RR as there are not enough pairs\n",
      "[M::mem_process_seqs] Processed 71794 reads in 1.824 CPU sec, 1.765 real sec\n",
      "[M::process] read 72170 sequences (10000044 bp)...\n",
      "[M::mem_pestat] # candidate unique pairs for (FF, FR, RF, RR): (2, 27167, 1, 3)\n",
      "[M::mem_pestat] skip orientation FF as there are not enough pairs\n",
      "[M::mem_pestat] analyzing insert size distribution for orientation FR...\n",
      "[M::mem_pestat] (25, 50, 75) percentile: (157, 232, 336)\n",
      "[M::mem_pestat] low and high boundaries for computing mean and std.dev: (1, 694)\n",
      "[M::mem_pestat] mean and std.dev: (254.39, 130.45)\n",
      "[M::mem_pestat] low and high boundaries for proper pairs: (1, 873)\n",
      "[M::mem_pestat] skip orientation RF as there are not enough pairs\n",
      "[M::mem_pestat] skip orientation RR as there are not enough pairs\n",
      "[M::mem_process_seqs] Processed 71904 reads in 1.788 CPU sec, 1.729 real sec\n",
      "[M::process] read 71842 sequences (10000181 bp)...\n",
      "[M::mem_pestat] # candidate unique pairs for (FF, FR, RF, RR): (0, 27298, 2, 1)\n",
      "[M::mem_pestat] skip orientation FF as there are not enough pairs\n",
      "[M::mem_pestat] analyzing insert size distribution for orientation FR...\n",
      "[M::mem_pestat] (25, 50, 75) percentile: (157, 231, 334)\n",
      "[M::mem_pestat] low and high boundaries for computing mean and std.dev: (1, 688)\n",
      "[M::mem_pestat] mean and std.dev: (253.41, 127.98)\n",
      "[M::mem_pestat] low and high boundaries for proper pairs: (1, 865)\n",
      "[M::mem_pestat] skip orientation RF as there are not enough pairs\n",
      "[M::mem_pestat] skip orientation RR as there are not enough pairs\n",
      "[M::mem_process_seqs] Processed 72170 reads in 1.802 CPU sec, 1.742 real sec\n",
      "[M::process] read 71914 sequences (10000039 bp)...\n",
      "[M::mem_pestat] # candidate unique pairs for (FF, FR, RF, RR): (2, 27219, 1, 0)\n",
      "[M::mem_pestat] skip orientation FF as there are not enough pairs\n",
      "[M::mem_pestat] analyzing insert size distribution for orientation FR...\n",
      "[M::mem_pestat] (25, 50, 75) percentile: (154, 229, 332)\n",
      "[M::mem_pestat] low and high boundaries for computing mean and std.dev: (1, 688)\n",
      "[M::mem_pestat] mean and std.dev: (250.91, 129.31)\n",
      "[M::mem_pestat] low and high boundaries for proper pairs: (1, 866)\n",
      "[M::mem_pestat] skip orientation RF as there are not enough pairs\n",
      "[M::mem_pestat] skip orientation RR as there are not enough pairs\n",
      "[M::mem_process_seqs] Processed 71842 reads in 1.988 CPU sec, 1.932 real sec\n",
      "[M::process] read 71860 sequences (10000138 bp)...\n",
      "[M::mem_pestat] # candidate unique pairs for (FF, FR, RF, RR): (1, 27223, 1, 0)\n",
      "[M::mem_pestat] skip orientation FF as there are not enough pairs\n",
      "[M::mem_pestat] analyzing insert size distribution for orientation FR...\n",
      "[M::mem_pestat] (25, 50, 75) percentile: (154, 229, 333)\n",
      "[M::mem_pestat] low and high boundaries for computing mean and std.dev: (1, 691)\n",
      "[M::mem_pestat] mean and std.dev: (252.03, 131.11)\n",
      "[M::mem_pestat] low and high boundaries for proper pairs: (1, 870)\n",
      "[M::mem_pestat] skip orientation RF as there are not enough pairs\n",
      "[M::mem_pestat] skip orientation RR as there are not enough pairs\n",
      "[M::mem_process_seqs] Processed 71914 reads in 1.905 CPU sec, 1.845 real sec\n",
      "[M::process] read 72108 sequences (10000109 bp)...\n",
      "[M::mem_pestat] # candidate unique pairs for (FF, FR, RF, RR): (1, 27304, 4, 0)\n",
      "[M::mem_pestat] skip orientation FF as there are not enough pairs\n",
      "[M::mem_pestat] analyzing insert size distribution for orientation FR...\n",
      "[M::mem_pestat] (25, 50, 75) percentile: (155, 229, 330)\n",
      "[M::mem_pestat] low and high boundaries for computing mean and std.dev: (1, 680)\n",
      "[M::mem_pestat] mean and std.dev: (250.53, 128.15)\n",
      "[M::mem_pestat] low and high boundaries for proper pairs: (1, 855)\n",
      "[M::mem_pestat] skip orientation RF as there are not enough pairs\n",
      "[M::mem_pestat] skip orientation RR as there are not enough pairs\n",
      "[M::mem_process_seqs] Processed 71860 reads in 1.907 CPU sec, 1.845 real sec\n",
      "[M::process] read 71830 sequences (10000114 bp)...\n",
      "[M::mem_pestat] # candidate unique pairs for (FF, FR, RF, RR): (2, 27304, 2, 1)\n",
      "[M::mem_pestat] skip orientation FF as there are not enough pairs\n",
      "[M::mem_pestat] analyzing insert size distribution for orientation FR...\n",
      "[M::mem_pestat] (25, 50, 75) percentile: (155, 230, 329)\n",
      "[M::mem_pestat] low and high boundaries for computing mean and std.dev: (1, 677)\n",
      "[M::mem_pestat] mean and std.dev: (250.09, 126.71)\n",
      "[M::mem_pestat] low and high boundaries for proper pairs: (1, 851)\n",
      "[M::mem_pestat] skip orientation RF as there are not enough pairs\n",
      "[M::mem_pestat] skip orientation RR as there are not enough pairs\n",
      "[M::mem_process_seqs] Processed 72108 reads in 1.861 CPU sec, 1.797 real sec\n",
      "[M::process] read 71760 sequences (10000002 bp)...\n",
      "[M::mem_pestat] # candidate unique pairs for (FF, FR, RF, RR): (2, 27210, 3, 1)\n",
      "[M::mem_pestat] skip orientation FF as there are not enough pairs\n",
      "[M::mem_pestat] analyzing insert size distribution for orientation FR...\n",
      "[M::mem_pestat] (25, 50, 75) percentile: (156, 233, 336)\n",
      "[M::mem_pestat] low and high boundaries for computing mean and std.dev: (1, 696)\n",
      "[M::mem_pestat] mean and std.dev: (253.51, 130.78)\n",
      "[M::mem_pestat] low and high boundaries for proper pairs: (1, 876)\n",
      "[M::mem_pestat] skip orientation RF as there are not enough pairs\n",
      "[M::mem_pestat] skip orientation RR as there are not enough pairs\n",
      "[M::mem_process_seqs] Processed 71830 reads in 1.869 CPU sec, 1.807 real sec\n",
      "[M::process] read 72166 sequences (10000260 bp)...\n",
      "[M::mem_pestat] # candidate unique pairs for (FF, FR, RF, RR): (3, 27133, 2, 2)\n",
      "[M::mem_pestat] skip orientation FF as there are not enough pairs\n",
      "[M::mem_pestat] analyzing insert size distribution for orientation FR...\n",
      "[M::mem_pestat] (25, 50, 75) percentile: (156, 232, 336)\n",
      "[M::mem_pestat] low and high boundaries for computing mean and std.dev: (1, 696)\n",
      "[M::mem_pestat] mean and std.dev: (254.02, 131.24)\n",
      "[M::mem_pestat] low and high boundaries for proper pairs: (1, 876)\n",
      "[M::mem_pestat] skip orientation RF as there are not enough pairs\n",
      "[M::mem_pestat] skip orientation RR as there are not enough pairs\n",
      "[M::mem_process_seqs] Processed 71760 reads in 1.901 CPU sec, 1.858 real sec\n",
      "[M::process] read 71832 sequences (10000033 bp)...\n",
      "[M::mem_pestat] # candidate unique pairs for (FF, FR, RF, RR): (2, 27279, 5, 0)\n",
      "[M::mem_pestat] skip orientation FF as there are not enough pairs\n",
      "[M::mem_pestat] analyzing insert size distribution for orientation FR...\n",
      "[M::mem_pestat] (25, 50, 75) percentile: (155, 230, 334)\n",
      "[M::mem_pestat] low and high boundaries for computing mean and std.dev: (1, 692)\n",
      "[M::mem_pestat] mean and std.dev: (252.19, 129.34)\n",
      "[M::mem_pestat] low and high boundaries for proper pairs: (1, 871)\n",
      "[M::mem_pestat] skip orientation RF as there are not enough pairs\n",
      "[M::mem_pestat] skip orientation RR as there are not enough pairs\n",
      "[M::mem_process_seqs] Processed 72166 reads in 1.902 CPU sec, 1.841 real sec\n",
      "[M::process] read 71690 sequences (10000134 bp)...\n",
      "[M::mem_pestat] # candidate unique pairs for (FF, FR, RF, RR): (1, 27316, 7, 1)\n",
      "[M::mem_pestat] skip orientation FF as there are not enough pairs\n",
      "[M::mem_pestat] analyzing insert size distribution for orientation FR...\n",
      "[M::mem_pestat] (25, 50, 75) percentile: (157, 233, 337)\n",
      "[M::mem_pestat] low and high boundaries for computing mean and std.dev: (1, 697)\n",
      "[M::mem_pestat] mean and std.dev: (255.93, 131.22)\n",
      "[M::mem_pestat] low and high boundaries for proper pairs: (1, 877)\n",
      "[M::mem_pestat] skip orientation RF as there are not enough pairs\n",
      "[M::mem_pestat] skip orientation RR as there are not enough pairs\n",
      "[M::mem_process_seqs] Processed 71832 reads in 2.006 CPU sec, 1.931 real sec\n",
      "[M::process] read 71704 sequences (10000268 bp)...\n",
      "[M::mem_pestat] # candidate unique pairs for (FF, FR, RF, RR): (0, 27008, 2, 1)\n",
      "[M::mem_pestat] skip orientation FF as there are not enough pairs\n",
      "[M::mem_pestat] analyzing insert size distribution for orientation FR...\n",
      "[M::mem_pestat] (25, 50, 75) percentile: (157, 233, 336)\n",
      "[M::mem_pestat] low and high boundaries for computing mean and std.dev: (1, 694)\n",
      "[M::mem_pestat] mean and std.dev: (255.16, 131.40)\n",
      "[M::mem_pestat] low and high boundaries for proper pairs: (1, 873)\n",
      "[M::mem_pestat] skip orientation RF as there are not enough pairs\n",
      "[M::mem_pestat] skip orientation RR as there are not enough pairs\n",
      "[M::mem_process_seqs] Processed 71690 reads in 1.867 CPU sec, 1.802 real sec\n",
      "[M::process] read 72130 sequences (10000186 bp)...\n",
      "[M::mem_pestat] # candidate unique pairs for (FF, FR, RF, RR): (0, 27190, 1, 0)\n",
      "[M::mem_pestat] skip orientation FF as there are not enough pairs\n",
      "[M::mem_pestat] analyzing insert size distribution for orientation FR...\n",
      "[M::mem_pestat] (25, 50, 75) percentile: (157, 234, 337)\n",
      "[M::mem_pestat] low and high boundaries for computing mean and std.dev: (1, 697)\n",
      "[M::mem_pestat] mean and std.dev: (255.90, 131.57)\n",
      "[M::mem_pestat] low and high boundaries for proper pairs: (1, 877)\n",
      "[M::mem_pestat] skip orientation RF as there are not enough pairs\n",
      "[M::mem_pestat] skip orientation RR as there are not enough pairs\n",
      "[M::mem_process_seqs] Processed 71704 reads in 1.885 CPU sec, 1.822 real sec\n",
      "[M::process] read 71888 sequences (10000008 bp)...\n",
      "[M::mem_pestat] # candidate unique pairs for (FF, FR, RF, RR): (1, 27204, 7, 1)\n",
      "[M::mem_pestat] skip orientation FF as there are not enough pairs\n",
      "[M::mem_pestat] analyzing insert size distribution for orientation FR...\n",
      "[M::mem_pestat] (25, 50, 75) percentile: (157, 231, 333)\n",
      "[M::mem_pestat] low and high boundaries for computing mean and std.dev: (1, 685)\n",
      "[M::mem_pestat] mean and std.dev: (253.16, 128.78)\n",
      "[M::mem_pestat] low and high boundaries for proper pairs: (1, 861)\n",
      "[M::mem_pestat] skip orientation RF as there are not enough pairs\n",
      "[M::mem_pestat] skip orientation RR as there are not enough pairs\n",
      "[M::mem_process_seqs] Processed 72130 reads in 1.833 CPU sec, 1.769 real sec\n",
      "[M::process] read 71892 sequences (10000159 bp)...\n",
      "[M::mem_pestat] # candidate unique pairs for (FF, FR, RF, RR): (1, 27228, 5, 0)\n",
      "[M::mem_pestat] skip orientation FF as there are not enough pairs\n",
      "[M::mem_pestat] analyzing insert size distribution for orientation FR...\n",
      "[M::mem_pestat] (25, 50, 75) percentile: (154, 230, 333)\n",
      "[M::mem_pestat] low and high boundaries for computing mean and std.dev: (1, 691)\n",
      "[M::mem_pestat] mean and std.dev: (251.53, 130.36)\n",
      "[M::mem_pestat] low and high boundaries for proper pairs: (1, 870)\n",
      "[M::mem_pestat] skip orientation RF as there are not enough pairs\n",
      "[M::mem_pestat] skip orientation RR as there are not enough pairs\n",
      "[M::mem_process_seqs] Processed 71888 reads in 1.821 CPU sec, 1.759 real sec\n",
      "[M::process] read 72054 sequences (10000067 bp)...\n",
      "[M::mem_pestat] # candidate unique pairs for (FF, FR, RF, RR): (0, 27298, 1, 2)\n",
      "[M::mem_pestat] skip orientation FF as there are not enough pairs\n",
      "[M::mem_pestat] analyzing insert size distribution for orientation FR...\n",
      "[M::mem_pestat] (25, 50, 75) percentile: (155, 230, 336)\n",
      "[M::mem_pestat] low and high boundaries for computing mean and std.dev: (1, 698)\n",
      "[M::mem_pestat] mean and std.dev: (253.12, 130.97)\n",
      "[M::mem_pestat] low and high boundaries for proper pairs: (1, 879)\n",
      "[M::mem_pestat] skip orientation RF as there are not enough pairs\n",
      "[M::mem_pestat] skip orientation RR as there are not enough pairs\n",
      "[M::mem_process_seqs] Processed 71892 reads in 1.831 CPU sec, 1.768 real sec\n",
      "[M::process] read 71760 sequences (10000231 bp)...\n",
      "[M::mem_pestat] # candidate unique pairs for (FF, FR, RF, RR): (1, 27305, 3, 1)\n",
      "[M::mem_pestat] skip orientation FF as there are not enough pairs\n",
      "[M::mem_pestat] analyzing insert size distribution for orientation FR...\n",
      "[M::mem_pestat] (25, 50, 75) percentile: (156, 229, 329)\n",
      "[M::mem_pestat] low and high boundaries for computing mean and std.dev: (1, 675)\n",
      "[M::mem_pestat] mean and std.dev: (250.46, 126.72)\n",
      "[M::mem_pestat] low and high boundaries for proper pairs: (1, 848)\n",
      "[M::mem_pestat] skip orientation RF as there are not enough pairs\n",
      "[M::mem_pestat] skip orientation RR as there are not enough pairs\n",
      "[M::mem_process_seqs] Processed 72054 reads in 1.873 CPU sec, 1.811 real sec\n",
      "[M::process] read 71774 sequences (10000256 bp)...\n",
      "[M::mem_pestat] # candidate unique pairs for (FF, FR, RF, RR): (0, 27115, 5, 1)\n",
      "[M::mem_pestat] skip orientation FF as there are not enough pairs\n",
      "[M::mem_pestat] analyzing insert size distribution for orientation FR...\n",
      "[M::mem_pestat] (25, 50, 75) percentile: (156, 233, 334)\n",
      "[M::mem_pestat] low and high boundaries for computing mean and std.dev: (1, 690)\n",
      "[M::mem_pestat] mean and std.dev: (254.08, 129.94)\n",
      "[M::mem_pestat] low and high boundaries for proper pairs: (1, 868)\n",
      "[M::mem_pestat] skip orientation RF as there are not enough pairs\n",
      "[M::mem_pestat] skip orientation RR as there are not enough pairs\n",
      "[M::mem_process_seqs] Processed 71760 reads in 1.853 CPU sec, 1.787 real sec\n",
      "[M::process] read 71816 sequences (10000199 bp)...\n",
      "[M::mem_pestat] # candidate unique pairs for (FF, FR, RF, RR): (1, 27016, 3, 2)\n",
      "[M::mem_pestat] skip orientation FF as there are not enough pairs\n",
      "[M::mem_pestat] analyzing insert size distribution for orientation FR...\n",
      "[M::mem_pestat] (25, 50, 75) percentile: (157, 233, 338)\n",
      "[M::mem_pestat] low and high boundaries for computing mean and std.dev: (1, 700)\n",
      "[M::mem_pestat] mean and std.dev: (255.21, 131.70)\n",
      "[M::mem_pestat] low and high boundaries for proper pairs: (1, 881)\n",
      "[M::mem_pestat] skip orientation RF as there are not enough pairs\n",
      "[M::mem_pestat] skip orientation RR as there are not enough pairs\n",
      "[M::mem_process_seqs] Processed 71774 reads in 1.856 CPU sec, 1.794 real sec\n",
      "[M::process] read 28564 sequences (3946758 bp)...\n",
      "[M::mem_pestat] # candidate unique pairs for (FF, FR, RF, RR): (2, 27165, 1, 0)\n",
      "[M::mem_pestat] skip orientation FF as there are not enough pairs\n",
      "[M::mem_pestat] analyzing insert size distribution for orientation FR...\n",
      "[M::mem_pestat] (25, 50, 75) percentile: (156, 232, 336)\n",
      "[M::mem_pestat] low and high boundaries for computing mean and std.dev: (1, 696)\n",
      "[M::mem_pestat] mean and std.dev: (254.26, 130.70)\n",
      "[M::mem_pestat] low and high boundaries for proper pairs: (1, 876)\n",
      "[M::mem_pestat] skip orientation RF as there are not enough pairs\n",
      "[M::mem_pestat] skip orientation RR as there are not enough pairs\n",
      "[M::mem_process_seqs] Processed 71816 reads in 1.816 CPU sec, 1.771 real sec\n"
     ]
    },
    {
     "name": "stdout",
     "output_type": "stream",
     "text": [
      "Alignment completed. SAM file saved at: ../data/results/alignment/aligned.sam\n"
     ]
    },
    {
     "name": "stderr",
     "output_type": "stream",
     "text": [
      "[M::mem_pestat] # candidate unique pairs for (FF, FR, RF, RR): (0, 10840, 2, 1)\n",
      "[M::mem_pestat] skip orientation FF as there are not enough pairs\n",
      "[M::mem_pestat] analyzing insert size distribution for orientation FR...\n",
      "[M::mem_pestat] (25, 50, 75) percentile: (158, 234, 332)\n",
      "[M::mem_pestat] low and high boundaries for computing mean and std.dev: (1, 680)\n",
      "[M::mem_pestat] mean and std.dev: (253.06, 126.40)\n",
      "[M::mem_pestat] low and high boundaries for proper pairs: (1, 854)\n",
      "[M::mem_pestat] skip orientation RF as there are not enough pairs\n",
      "[M::mem_pestat] skip orientation RR as there are not enough pairs\n",
      "[M::mem_process_seqs] Processed 28564 reads in 0.744 CPU sec, 0.711 real sec\n",
      "[main] Version: 0.7.18-r1243-dirty\n",
      "[main] CMD: /Users/akechi/Downloads/bwa/bwa mem ../reference_genome/GCF_000005845.2_ASM584v2_genomic.fna ../data/results/trim-and-filter/trimmed_1P.fastq ../data/results/trim-and-filter/trimmed_2P.fastq\n",
      "[main] Real time: 51.385 sec; CPU: 53.073 sec\n"
     ]
    }
   ],
   "source": [
    "# perform paired-end alignment\n",
    "read_1 = '../data/results/trim-and-filter/trimmed_1P.fastq'\n",
    "read_2 = '../data/results/trim-and-filter/trimmed_2P.fastq'\n",
    "output_file = '../data/results/alignment/aligned.sam'\n",
    "\n",
    "align_reads_with_bwa(reference_genome=reference_genome,\n",
    "                     read_1=read_1,\n",
    "                     read_2=read_2,\n",
    "                     output_file=output_file,\n",
    "                     bwa_path=bwa_path)"
   ]
  },
  {
   "cell_type": "markdown",
   "metadata": {},
   "source": [
    "## Convert SAM to BAM\n",
    "\n",
    "Convert the Sequence Alignment Map to a binary format (BAM) for faster lookup."
   ]
  },
  {
   "cell_type": "code",
   "execution_count": 3,
   "metadata": {},
   "outputs": [],
   "source": [
    "def convert_sam_to_bam(sam_file: Union[str, Path], output_bam: Union[str, Path]) -> None:\n",
    "    \"\"\"\n",
    "    Converts a SAM file to BAM format usint SAMtools.\n",
    "\n",
    "    Parameters:\n",
    "        sam_file (str or Path): Path to SAM file.\n",
    "        output_bam (str or Path): Path to save the BAM file.\n",
    "\n",
    "    Return:\n",
    "        None\n",
    "    \"\"\"\n",
    "    # ensure input SAM file exists\n",
    "    sam_file = Path(sam_file)\n",
    "    if not sam_file.is_file():\n",
    "        raise FileNotFoundError(f'SAM file not found: {sam_file}')\n",
    "    \n",
    "    cmd = f'samtools view -bS {sam_file} -o {output_bam}'\n",
    "\n",
    "    # perform conversion\n",
    "    try:\n",
    "        print(f'Converting {sam_file} to BAM format...')\n",
    "        subprocess.run(cmd, shell=True, check=True)\n",
    "        print(f'Bam file saved at: {output_bam}')\n",
    "    except subprocess.CalledProcessError as e:\n",
    "        print(f'Error converting SAM to BAM: {e}')\n",
    "    "
   ]
  },
  {
   "cell_type": "code",
   "execution_count": 4,
   "metadata": {},
   "outputs": [
    {
     "name": "stdout",
     "output_type": "stream",
     "text": [
      "Converting ../data/results/alignment/aligned.sam to BAM format...\n",
      "Bam file saved at: ../data/results/alignment/aligned.bam\n"
     ]
    }
   ],
   "source": [
    "sam_file = '../data/results/alignment/aligned.sam'\n",
    "output_bam = '../data/results/alignment/aligned.bam'\n",
    "\n",
    "convert_sam_to_bam(sam_file=sam_file, output_bam=output_bam)"
   ]
  },
  {
   "cell_type": "markdown",
   "metadata": {},
   "source": [
    "## Sort & Index BAM File"
   ]
  },
  {
   "cell_type": "code",
   "execution_count": 12,
   "metadata": {},
   "outputs": [],
   "source": [
    "def sort_and_index_bam(bam_file: Union[str, Path], output_sorted_bam: Union[str, Path]) -> None:\n",
    "    \"\"\"\n",
    "    Sorts and indexes BAM file.\n",
    "\n",
    "    Parameters:\n",
    "        bam_file (str or Path): Aligned input BAM file.\n",
    "        output_sorted_bam (str or Path): sorted & indexed BAM file.\n",
    "    \"\"\"\n",
    "    # check BAM file exists\n",
    "    bam_file = Path(bam_file)\n",
    "    if not bam_file.is_file():\n",
    "        raise FileNotFoundError(f'{bam_file} not found!')\n",
    "    \n",
    "    sort_cmd = f'samtools sort {bam_file} -o {output_sorted_bam}'\n",
    "    index_cmd = f'samtools index {output_sorted_bam}'\n",
    "\n",
    "    # sort\n",
    "    try:\n",
    "        print(f'Sorting {bam_file} ...')\n",
    "        subprocess.run(sort_cmd, shell=True, check=True)\n",
    "    except subprocess.CalledProcessError as e:\n",
    "        print(f'Error sorting {bam_file}')\n",
    "    \n",
    "    # check sorted BAM file exists\n",
    "    if not Path(output_sorted_bam).is_file():\n",
    "        raise FileNotFoundError(f'{output_sorted_bam} not found!')\n",
    "    \n",
    "    # index\n",
    "    try:\n",
    "        print(f'Indexing {output_sorted_bam} ...')\n",
    "        subprocess.run(index_cmd, shell=True, check=True)\n",
    "    except subprocess.CalledProcessError as e:\n",
    "        print(f'Error indexing {output_sorted_bam}')\n",
    "    \n",
    "    print('Finished!')"
   ]
  },
  {
   "cell_type": "code",
   "execution_count": 13,
   "metadata": {},
   "outputs": [
    {
     "name": "stdout",
     "output_type": "stream",
     "text": [
      "Sorting ../data/results/alignment/aligned.bam ...\n",
      "Indexing ../data/results/alignment/aligned_sorted.bam ...\n",
      "Finished!\n"
     ]
    }
   ],
   "source": [
    "# sort and index bam file\n",
    "bam_file = '../data/results/alignment/aligned.bam'\n",
    "bam_sorted = '../data/results/alignment/aligned_sorted.bam'\n",
    "\n",
    "sort_and_index_bam(bam_file=bam_file, output_sorted_bam=bam_sorted)"
   ]
  },
  {
   "cell_type": "markdown",
   "metadata": {},
   "source": [
    "# Variant Calling\n",
    "\n",
    "This step includes identifying genomic variants (i.e. SNPs, insertions, deletions) by comparing the aligned reads to the reference genome."
   ]
  },
  {
   "cell_type": "code",
   "execution_count": 30,
   "metadata": {},
   "outputs": [],
   "source": [
    "def call_variants_bcftools(\n",
    "        bam_file: Union[str, Path],\n",
    "        reference_genome: Union[str, Path],\n",
    "        output_vcf: Union[str, Path]='variants.vcf'\n",
    ") -> None:\n",
    "    \"\"\"\n",
    "    Call variants using bcftools\n",
    "\n",
    "    Parameters:\n",
    "        bam_file (str or Path): Path to sorted BAM file.\n",
    "        reference_genome (str or Path): Path to reference genome in FASTA format.\n",
    "        output_vcf (str or Path): Path to save the output VCF file.\n",
    "    \n",
    "    Return:\n",
    "        None\n",
    "    \"\"\"\n",
    "    # check input files exist\n",
    "    if not Path(bam_file).is_file():\n",
    "        raise FileNotFoundError(f'BAM file not found: {bam_file}')\n",
    "    if not Path(reference_genome).is_file():\n",
    "        raise FileNotFoundError(f'Reference genome not found: {reference_genome}')\n",
    "    \n",
    "    mpileup_cmd = f'bcftools mpileup -f {reference_genome} {bam_file}'\n",
    "    bcftools_cmd = f'bcftools call -mv -Ov -o {output_vcf}'\n",
    "\n",
    "    # run mpileup & pipe to bcftools\n",
    "    try:\n",
    "        print('Generating mpileup and calling variants...')\n",
    "        mpileup = subprocess.Popen(mpileup_cmd, stdout=subprocess.PIPE, shell=True)\n",
    "        subprocess.run(bcftools_cmd, stdin=mpileup.stdout, shell=True, check=True)\n",
    "        mpileup.stdout.close()\n",
    "        print(f'Variant calling completed. VCF saved at: {output_vcf}')\n",
    "    except subprocess.CalledProcessError as e:\n",
    "        print(f'Error during variant calling: {e}')"
   ]
  },
  {
   "cell_type": "code",
   "execution_count": 31,
   "metadata": {},
   "outputs": [
    {
     "name": "stdout",
     "output_type": "stream",
     "text": [
      "Generating mpileup and calling variants...\n"
     ]
    },
    {
     "name": "stderr",
     "output_type": "stream",
     "text": [
      "[mpileup] 1 samples in 1 input files\n",
      "Note: none of --samples-file, --ploidy or --ploidy-file given, assuming all sites are diploid\n",
      "[mpileup] maximum number of reads per input file set to -d 250\n"
     ]
    },
    {
     "name": "stdout",
     "output_type": "stream",
     "text": [
      "Variant calling completed. VCF saved at: ../data/results/variants.vcf\n"
     ]
    }
   ],
   "source": [
    "# variant calling\n",
    "reference_genome = f'../reference_genome/GCF_000005845.2_ASM584v2_genomic.fna'\n",
    "output_vcf = '../data/results/variants.vcf'\n",
    "\n",
    "call_variants_bcftools(bam_file=bam_sorted, reference_genome=reference_genome, output_vcf=output_vcf)"
   ]
  },
  {
   "cell_type": "markdown",
   "metadata": {},
   "source": [
    "# Filter Variants, Analyze, Visualize\n",
    "\n",
    "Filter variants by quality score. We don't want to have **false positives** when calling variants."
   ]
  },
  {
   "cell_type": "code",
   "execution_count": 33,
   "metadata": {},
   "outputs": [],
   "source": [
    "def filter_variants(input_vcf: Union[str, Path], output_vcf: Union[str, Path]='filtered_variants.vcf') -> None:\n",
    "    \"\"\"\n",
    "    Filters variants in a VCF file based on quality using bcftools\n",
    "\n",
    "    Parameters:\n",
    "        input_vcf (str or Path): Path to input VCF file.\n",
    "        output_vcf (str or Path): Path to the output filtered VCF file.\n",
    "\n",
    "    Return:\n",
    "        None\n",
    "    \"\"\"\n",
    "    # check\n",
    "    if not Path(input_vcf).is_file():\n",
    "        raise FileNotFoundError(f'VCF file not found: {input_vcf}')\n",
    "    \n",
    "    cmd = f\"bcftools filter -i 'QUAL>30' {input_vcf} > {output_vcf}\"\n",
    "\n",
    "    # filter\n",
    "    try:\n",
    "        print('Filtering variants by quality...')\n",
    "        subprocess.run(cmd, shell=True, check=True)\n",
    "        print(f'Filtered VCF saved at: {output_vcf}')\n",
    "    except subprocess.CalledProcessError as e:\n",
    "        print(f'Error during variant filtering: {e}')"
   ]
  },
  {
   "cell_type": "code",
   "execution_count": 34,
   "metadata": {},
   "outputs": [
    {
     "name": "stdout",
     "output_type": "stream",
     "text": [
      "Filtering variants by quality...\n",
      "Filtered VCF saved at: ../data/results/filtered_variants.vcf\n"
     ]
    }
   ],
   "source": [
    "# filter variants\n",
    "input_vcf = '../data/results/variants.vcf'\n",
    "output_vcf = '../data/results/filtered_variants.vcf'\n",
    "\n",
    "filter_variants(input_vcf=input_vcf, output_vcf=output_vcf)"
   ]
  },
  {
   "cell_type": "markdown",
   "metadata": {},
   "source": [
    "# Summary Statistics\n",
    "\n",
    "We can view summary statistics for the filtered variants."
   ]
  },
  {
   "cell_type": "code",
   "execution_count": 35,
   "metadata": {},
   "outputs": [],
   "source": [
    "def summary_statistics(filtered_vcf: Union[str, Path], vcf_stats: Union[str, Path]) -> None:\n",
    "    \"\"\"\n",
    "    Creates text file with summary statistics of filtered VCF file.\n",
    "\n",
    "    Parameters:\n",
    "        filtered_vcf (str or Path): Filtered VCF file.\n",
    "        vcf_stats (str or Path): Text file with summary statistics.\n",
    "    \n",
    "    Return:\n",
    "        None\n",
    "    \"\"\"\n",
    "    if not Path(filtered_vcf).is_file():\n",
    "        raise FileNotFoundError(f'VCF file not found {filtered_vcf}')\n",
    "    \n",
    "    cmd = f'bcftools stats {filtered_vcf} > {vcf_stats}'\n",
    "    try:\n",
    "        print('Generating summary statistics...')\n",
    "        subprocess.run(cmd, shell=True, check=True)\n",
    "        print('Finished!')\n",
    "    except subprocess.CalledProcessError as e:\n",
    "        print(f'Error generating summary statistics: {e}')\n"
   ]
  },
  {
   "cell_type": "code",
   "execution_count": 37,
   "metadata": {},
   "outputs": [
    {
     "name": "stdout",
     "output_type": "stream",
     "text": [
      "Generating summary statistics...\n",
      "Finished!\n"
     ]
    }
   ],
   "source": [
    "# generate summary statistics\n",
    "variant_stats = '../data/results/variant_stats.txt'\n",
    "\n",
    "summary_statistics(output_vcf, variant_stats)"
   ]
  },
  {
   "cell_type": "markdown",
   "metadata": {},
   "source": [
    "The **Integrative Genomics Viewer** tool allows us to visualize aligned reads and called variants.\n",
    "\n",
    "Simply load the aligned BAM file, reference genome, and overlay the VCF file to identify variant locations.\n",
    "\n",
    "IGV Download: https://igv.org/doc/desktop/"
   ]
  },
  {
   "cell_type": "markdown",
   "metadata": {},
   "source": [
    "# Going Forward\n",
    "\n",
    "Shown above was a traditional statistical approach to identifying variants of a genomic sequence relative to a reference genome.\n",
    "\n",
    "Today there are machine learning based callers such as **DeepVariant** by Google that are based on CNNs to call SNPs and indels (insertions / deletions). Another ML-based variant caller is **Clair3**.\n",
    "\n",
    "In addition to identifying variants, machine learning models today can also:\n",
    "- Predict epigenetic modifications based on DNA methylation data\n",
    "- Predict functional regulatory regions in the genome based on ATAC-seq data\n",
    "- Predict effects of protein mutations or drug response\n",
    "- Classify the type of variants (somatic vs germline)"
   ]
  },
  {
   "cell_type": "code",
   "execution_count": null,
   "metadata": {},
   "outputs": [],
   "source": []
  }
 ],
 "metadata": {
  "kernelspec": {
   "display_name": "bio",
   "language": "python",
   "name": "python3"
  },
  "language_info": {
   "codemirror_mode": {
    "name": "ipython",
    "version": 3
   },
   "file_extension": ".py",
   "mimetype": "text/x-python",
   "name": "python",
   "nbconvert_exporter": "python",
   "pygments_lexer": "ipython3",
   "version": "3.11.9"
  }
 },
 "nbformat": 4,
 "nbformat_minor": 2
}
