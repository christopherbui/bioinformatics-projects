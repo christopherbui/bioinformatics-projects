{
 "cells": [
  {
   "cell_type": "markdown",
   "metadata": {},
   "source": [
    "# End-To-End NGS Sequencing Analysis Pipeline"
   ]
  },
  {
   "cell_type": "markdown",
   "metadata": {},
   "source": [
    "In this notebook, we'll demonstrate an end-to-end NGS sequencing analysis pipeline using Python and associated libraries.\n",
    "\n",
    "The basic steps are:\n",
    "\n",
    "1. Download Sequencing Data\n",
    "2. Quality Control\n",
    "3. Data Preprocessing\n",
    "4. Read Alignment\n",
    "5. Convert SAM to BAM and Sort\n",
    "6. Variant Calling\n",
    "7. Annotation\n",
    "8. Visualization & reporting"
   ]
  },
  {
   "cell_type": "code",
   "execution_count": 33,
   "metadata": {},
   "outputs": [],
   "source": [
    "import os\n",
    "import subprocess\n",
    "from pathlib import Path\n",
    "from typing import Union"
   ]
  },
  {
   "cell_type": "markdown",
   "metadata": {},
   "source": [
    "# Download Data"
   ]
  },
  {
   "cell_type": "code",
   "execution_count": 34,
   "metadata": {},
   "outputs": [],
   "source": [
    "sra_id = 'SRR31041149'\n",
    "DATA_DIR = Path('../data')"
   ]
  },
  {
   "cell_type": "code",
   "execution_count": 35,
   "metadata": {},
   "outputs": [],
   "source": [
    "def download_sra_data(sra_id: str, DATA_DIR):\n",
    "    \"\"\"\n",
    "    Download SRA data using SRA Toolkit\n",
    "\n",
    "    Parameters:\n",
    "        sra_id (str): Accession id of sequence\n",
    "        DATA_DIR: Output directory\n",
    "    \"\"\"\n",
    "    try:\n",
    "        print(f'Downloading {sra_id}...')\n",
    "        # use 'prefetch' command to download .sra file\n",
    "        subprocess.run(f'prefetch {sra_id} -O {DATA_DIR}', shell=True, check=True)\n",
    "\n",
    "        # convert .sra to .fastq using fastq-dump\n",
    "        sra_file = f'{DATA_DIR}/{sra_id}/{sra_id}.sra'\n",
    "        subprocess.run(f'fastq-dump --split-files {sra_file} -O {DATA_DIR}', shell=True, check=True)\n",
    "\n",
    "        print(f'Downloaded and converted {sra_id} to FASTQ format.')\n",
    "    except subprocess.CalledProcessError as e:\n",
    "        print(f'Error during dowload or conversion: {e}')"
   ]
  },
  {
   "cell_type": "code",
   "execution_count": 37,
   "metadata": {},
   "outputs": [
    {
     "name": "stdout",
     "output_type": "stream",
     "text": [
      "2024-10-20T04:08:50 prefetch.3.1.1: 1) Resolving 'SRR31041149'...\n",
      "2024-10-20T04:08:51 prefetch.3.1.1: Current preference is set to retrieve SRA Normalized Format files with full base quality scores\n",
      "2024-10-20T04:08:52 prefetch.3.1.1: 1) 'SRR31041149' is found locally \n",
      "2024-10-20T04:08:52 prefetch.3.1.1: 'SRR31041149' has 0 unresolved dependencies\n"
     ]
    },
    {
     "data": {
      "text/plain": [
       "CompletedProcess(args='prefetch SRR31041149 -O ../data', returncode=0)"
      ]
     },
     "execution_count": 37,
     "metadata": {},
     "output_type": "execute_result"
    }
   ],
   "source": [
    "subprocess.run(f'prefetch {sra_id} -O {DATA_DIR}', shell=True, check=True)"
   ]
  },
  {
   "cell_type": "markdown",
   "metadata": {},
   "source": [
    "# Quality Control Using FastQC"
   ]
  },
  {
   "cell_type": "markdown",
   "metadata": {},
   "source": [
    "We need to convert the downloaded `.sra` file to a `.fastq` format. Use `fastq-dump` from **SRA Toolkit** for this task."
   ]
  },
  {
   "cell_type": "code",
   "execution_count": 38,
   "metadata": {},
   "outputs": [],
   "source": [
    "def convert_sra_to_fastq(sra_file: Union[str, Path], output_dir: Union[str, Path]) -> None:\n",
    "    \"\"\"\n",
    "    Converts an SRA file to FASTQ format using fastq-dump\n",
    "\n",
    "    Parameters:\n",
    "        sra_file (str or Path): Path to input .sra file.\n",
    "        output_dir (str or Path): Directory to save FASTQ files.\n",
    "    \n",
    "    Return:\n",
    "        None\n",
    "    \"\"\"\n",
    "    # ensure output directory exists\n",
    "    Path(output_dir).mkdir(parents=True, exist_ok=True)\n",
    "\n",
    "    try:\n",
    "        print(f'Converting {sra_file} to FASTQ...')\n",
    "        cmd = f'fastq-dump --split-files --outdir {output_dir} {sra_file}'\n",
    "        subprocess.run(cmd, shell=True, check=True)\n",
    "        print('Conversion completed.')\n",
    "    except subprocess.CalledProcessError as e:\n",
    "        print(f'Error during conversion: {e}')"
   ]
  },
  {
   "cell_type": "code",
   "execution_count": 39,
   "metadata": {},
   "outputs": [
    {
     "name": "stdout",
     "output_type": "stream",
     "text": [
      "Converting ../data/SRR31041149/SRR31041149.sra to FASTQ...\n",
      "Read 1127165 spots for ../data/SRR31041149/SRR31041149.sra\n",
      "Written 1127165 spots for ../data/SRR31041149/SRR31041149.sra\n",
      "Conversion completed.\n"
     ]
    }
   ],
   "source": [
    "# convert sra to fastq\n",
    "sra_file = DATA_DIR / sra_id / (sra_id + '.sra')\n",
    "convert_sra_to_fastq(sra_file=sra_file, output_dir=DATA_DIR)\n"
   ]
  },
  {
   "cell_type": "markdown",
   "metadata": {},
   "source": [
    "For paired-end reads, the output above will yield 2 `.fastq` files. One file corresponds to the forward read, and the other to the reverse read."
   ]
  },
  {
   "cell_type": "code",
   "execution_count": 40,
   "metadata": {},
   "outputs": [],
   "source": [
    "def run_fastqc(input_file: Union[str, Path], output_dir: Union[str, Path]) -> None:\n",
    "    \"\"\"\n",
    "    Run FastQC on the input FASTQ file and stores results in output directory\n",
    "\n",
    "    Parameters:\n",
    "        input_file (str or Path): Path to input FASTQ file.\n",
    "        output_dir (str or Path): Directory to save FastQC report.\n",
    "    \n",
    "    Return:\n",
    "        None\n",
    "    \"\"\"\n",
    "    # create output directory if it doesn't exist\n",
    "    Path(output_dir).mkdir(parents=True, exist_ok=True)\n",
    "\n",
    "    # run FastQC command\n",
    "    try:\n",
    "        print(f'Running FastQC on {input_file}...')\n",
    "        cmd = f'fastqc {input_file} -o {output_dir}'\n",
    "        subprocess.run(cmd, shell=True, check=True)\n",
    "        print(f'FastQC report saved in {output_dir}')\n",
    "    except subprocess.CalledProcessError as e:\n",
    "        print(f'Error running FastQC: {e}')\n"
   ]
  },
  {
   "cell_type": "code",
   "execution_count": 41,
   "metadata": {},
   "outputs": [
    {
     "name": "stdout",
     "output_type": "stream",
     "text": [
      "Running FastQC on ../data/SRR31041149_1.fastq...\n",
      "null\n"
     ]
    },
    {
     "name": "stderr",
     "output_type": "stream",
     "text": [
      "Started analysis of SRR31041149_1.fastq\n",
      "Approx 5% complete for SRR31041149_1.fastq\n",
      "Approx 10% complete for SRR31041149_1.fastq\n",
      "Approx 15% complete for SRR31041149_1.fastq\n",
      "Approx 20% complete for SRR31041149_1.fastq\n",
      "Approx 25% complete for SRR31041149_1.fastq\n",
      "Approx 30% complete for SRR31041149_1.fastq\n",
      "Approx 35% complete for SRR31041149_1.fastq\n",
      "Approx 40% complete for SRR31041149_1.fastq\n",
      "Approx 45% complete for SRR31041149_1.fastq\n",
      "Approx 50% complete for SRR31041149_1.fastq\n",
      "Approx 55% complete for SRR31041149_1.fastq\n",
      "Approx 60% complete for SRR31041149_1.fastq\n",
      "Approx 65% complete for SRR31041149_1.fastq\n",
      "Approx 70% complete for SRR31041149_1.fastq\n",
      "Approx 75% complete for SRR31041149_1.fastq\n",
      "Approx 80% complete for SRR31041149_1.fastq\n",
      "Approx 85% complete for SRR31041149_1.fastq\n",
      "Approx 90% complete for SRR31041149_1.fastq\n",
      "Approx 95% complete for SRR31041149_1.fastq\n"
     ]
    },
    {
     "name": "stdout",
     "output_type": "stream",
     "text": [
      "Analysis complete for SRR31041149_1.fastq\n"
     ]
    },
    {
     "name": "stderr",
     "output_type": "stream",
     "text": [
      "Warning: the fonts \"Times\" and \"Times\" are not available for the Java logical font \"Serif\", which may have unexpected appearance or behavior. Re-enable the \"Times\" font to remove this warning.\n"
     ]
    },
    {
     "name": "stdout",
     "output_type": "stream",
     "text": [
      "FastQC report saved in ../data/results/qc\n",
      "Running FastQC on ../data/SRR31041149_2.fastq...\n",
      "null\n"
     ]
    },
    {
     "name": "stderr",
     "output_type": "stream",
     "text": [
      "Started analysis of SRR31041149_2.fastq\n",
      "Approx 5% complete for SRR31041149_2.fastq\n",
      "Approx 10% complete for SRR31041149_2.fastq\n",
      "Approx 15% complete for SRR31041149_2.fastq\n",
      "Approx 20% complete for SRR31041149_2.fastq\n",
      "Approx 25% complete for SRR31041149_2.fastq\n",
      "Approx 30% complete for SRR31041149_2.fastq\n",
      "Approx 35% complete for SRR31041149_2.fastq\n",
      "Approx 40% complete for SRR31041149_2.fastq\n",
      "Approx 45% complete for SRR31041149_2.fastq\n",
      "Approx 50% complete for SRR31041149_2.fastq\n",
      "Approx 55% complete for SRR31041149_2.fastq\n",
      "Approx 60% complete for SRR31041149_2.fastq\n",
      "Approx 65% complete for SRR31041149_2.fastq\n",
      "Approx 70% complete for SRR31041149_2.fastq\n",
      "Approx 75% complete for SRR31041149_2.fastq\n",
      "Approx 80% complete for SRR31041149_2.fastq\n",
      "Approx 85% complete for SRR31041149_2.fastq\n",
      "Approx 90% complete for SRR31041149_2.fastq\n",
      "Approx 95% complete for SRR31041149_2.fastq\n"
     ]
    },
    {
     "name": "stdout",
     "output_type": "stream",
     "text": [
      "Analysis complete for SRR31041149_2.fastq\n"
     ]
    },
    {
     "name": "stderr",
     "output_type": "stream",
     "text": [
      "Warning: the fonts \"Times\" and \"Times\" are not available for the Java logical font \"Serif\", which may have unexpected appearance or behavior. Re-enable the \"Times\" font to remove this warning.\n"
     ]
    },
    {
     "name": "stdout",
     "output_type": "stream",
     "text": [
      "FastQC report saved in ../data/results/qc\n"
     ]
    }
   ],
   "source": [
    "# run fastqc analysis\n",
    "\n",
    "input_files = [DATA_DIR / (sra_id + '_1.fastq'), DATA_DIR / (sra_id + '_2.fastq')]\n",
    "QC_OUTPUT_DIR = DATA_DIR / 'results/qc'\n",
    "\n",
    "for fastq_file in input_files:\n",
    "    run_fastqc(fastq_file, QC_OUTPUT_DIR)\n",
    "\n"
   ]
  },
  {
   "cell_type": "markdown",
   "metadata": {},
   "source": [
    "A report of quality statistics are presented within the output HTML files for each pair-end read.\n",
    "\n",
    "**Interpreting the HTML Report**\n",
    "1. **Per Base Sequence Quality**: Shows box and whisker plot of quality score for each base\n",
    "2. **GC Content**: Verify if it matches expectations (i.e. ~50% if using an E. coli SRR accession)\n",
    "3. **Adapter Content**: Alerts of adapter presence; Will trim them in the *Trimming and Filtering* step\n",
    "4. **Sequence Duplication**: high levels of duplication might indicate PCR bias"
   ]
  },
  {
   "cell_type": "markdown",
   "metadata": {},
   "source": [
    "# Data Processing (Trimming and Filtering)\n",
    "\n",
    "After generating the HTML report with `fastqc` and if adapter contamination is present, we can apply the `trimmomatic` from the SRA Toolkit to remove adapters or low-qality bases at the sequence ends."
   ]
  },
  {
   "cell_type": "code",
   "execution_count": 42,
   "metadata": {},
   "outputs": [],
   "source": [
    "def run_trimmomatic(forward_file: Union[str, Path],\n",
    "                    reverse_file: Union[str, Path],\n",
    "                    output_dir: Union[str, Path],\n",
    "                    trimmomatic_path: Union[str, Path],\n",
    "                    adapter='TruSeq3-PE.fa') -> None:\n",
    "    \"\"\"\n",
    "    Run Trimmomatic to trim adapters and filter low-quality reads\n",
    "\n",
    "    Parameters:\n",
    "        forward_file (str or Path): Path to the forward reads FASTQ file.\n",
    "        reverse_file (str or Path): Path to the reverse reads FASTQ file.\n",
    "        output_dir (str or Path): Directory to save trimmed FASTQ files.\n",
    "        trimmomatic_path (str or Path): Path to trimmomatic.jar file.\n",
    "    \n",
    "    Return:\n",
    "        None\n",
    "    \"\"\"\n",
    "    # create output directory if it doesn't exist\n",
    "    Path(output_dir).mkdir(parents=True, exist_ok=True)\n",
    "\n",
    "    # adapter file\n",
    "    adapter_file = f'/Users/Akechi/Downloads/Trimmomatic-0.39/adapters/{adapter}'\n",
    "\n",
    "    cmd = f\"java -jar {trimmomatic_path} PE {forward_file} {reverse_file} {output_dir}/trimmed_1P.fastq {output_dir}/unpaired_1U.fastq {output_dir}/trimmed_2P.fastq {output_dir}/unpaired_2U.fastq ILLUMINACLIP:{adapter_file}:2:30:10 SLIDINGWINDOW:4:20 MINLEN:50\"\n",
    "    try:\n",
    "        print(f'Running Trimmomatic on {forward_file} and {reverse_file}...')\n",
    "        subprocess.run(cmd, shell=True, check=True)\n",
    "    except subprocess.CalledProcessError as e:\n",
    "        print(f'Error running Trimmomatic: {e}')"
   ]
  },
  {
   "cell_type": "code",
   "execution_count": 43,
   "metadata": {},
   "outputs": [
    {
     "name": "stdout",
     "output_type": "stream",
     "text": [
      "Running Trimmomatic on ../data/SRR31041149_1.fastq and ../data/SRR31041149_2.fastq...\n"
     ]
    },
    {
     "name": "stderr",
     "output_type": "stream",
     "text": [
      "TrimmomaticPE: Started with arguments:\n",
      " ../data/SRR31041149_1.fastq ../data/SRR31041149_2.fastq ../data/results/trimmed_1P.fastq ../data/results/unpaired_1U.fastq ../data/results/trimmed_2P.fastq ../data/results/unpaired_2U.fastq ILLUMINACLIP:/Users/Akechi/Downloads/Trimmomatic-0.39/adapters/TruSeq3-PE.fa:2:30:10 SLIDINGWINDOW:4:20 MINLEN:50\n",
      "Using PrefixPair: 'TACACTCTTTCCCTACACGACGCTCTTCCGATCT' and 'GTGACTGGAGTTCAGACGTGTGCTCTTCCGATCT'\n",
      "ILLUMINACLIP: Using 1 prefix pairs, 0 forward/reverse sequences, 0 forward only sequences, 0 reverse only sequences\n",
      "Quality encoding detected as phred33\n",
      "Input Read Pairs: 1127165 Both Surviving: 1020543 (90.54%) Forward Only Surviving: 69010 (6.12%) Reverse Only Surviving: 11107 (0.99%) Dropped: 26505 (2.35%)\n",
      "TrimmomaticPE: Completed successfully\n"
     ]
    }
   ],
   "source": [
    "# run trimmomatic\n",
    "forward_file = f'../data/{sra_id}_1.fastq'\n",
    "reverse_file = f'../data/{sra_id}_2.fastq'\n",
    "output_dir = DATA_DIR / 'results'\n",
    "trimmomatic_path = f'~/Downloads/Trimmomatic-0.39/trimmomatic-0.39.jar'\n",
    "\n",
    "run_trimmomatic(f'../data/{sra_id}_1.fastq', f'../data/{sra_id}_2.fastq', output_dir=output_dir, trimmomatic_path=trimmomatic_path)\n"
   ]
  },
  {
   "cell_type": "markdown",
   "metadata": {},
   "source": [
    "# Align Reads to Reference Genome\n",
    "\n",
    "Since we used a sequence from E. Coli, we need to download an E. Coli reference genome to align our reads in the trimmed, paired FASTQ files to.\n",
    "\n",
    "E. Coli Reference Genome:\n",
    "- https://ftp.ncbi.nlm.nih.gov/genomes/all/GCF/000/005/845/GCF_000005845.2_ASM584v2/"
   ]
  },
  {
   "cell_type": "markdown",
   "metadata": {},
   "source": [
    "## Download Reference Genome"
   ]
  },
  {
   "cell_type": "code",
   "execution_count": 44,
   "metadata": {},
   "outputs": [],
   "source": [
    "def get_reference_sequence(ftp_url: str, output_dir: Union[str, Path]) -> None:\n",
    "    \"\"\"\n",
    "    Downloads reference sequence using FTP protocol\n",
    "\n",
    "    Parameters:\n",
    "        ftp_url (str): Url to reference sequence.\n",
    "        output_dir (str or Path): Output directory.\n",
    "    \n",
    "    Return:\n",
    "        None\n",
    "    \"\"\"\n",
    "    # get zip file name\n",
    "    zip_file = ftp_url.split('/')[-1]\n",
    "\n",
    "    # make output directory if it doesn't exist\n",
    "    Path(output_dir).mkdir(parents=True, exist_ok=True)\n",
    "\n",
    "    # change into output directory, download reference sequence, and unzip\n",
    "    cmd = f'cd {output_dir} && wget {ftp_url} && gunzip {zip_file}'\n",
    "    try:\n",
    "        print(f'Downloading reference genome...')\n",
    "        subprocess.run(cmd, shell=True, check=True)\n",
    "    except subprocess.CalledProcessError as e:\n",
    "        print(f'Error downloading reference genomd: {e}')\n",
    "    "
   ]
  },
  {
   "cell_type": "code",
   "execution_count": 45,
   "metadata": {},
   "outputs": [
    {
     "name": "stdout",
     "output_type": "stream",
     "text": [
      "Downloading reference genome...\n"
     ]
    },
    {
     "name": "stderr",
     "output_type": "stream",
     "text": [
      "--2024-10-19 21:09:52--  ftp://ftp.ncbi.nlm.nih.gov/genomes/all/GCF/000/005/845/GCF_000005845.2_ASM584v2/GCF_000005845.2_ASM584v2_genomic.fna.gz\n",
      "           => ‘GCF_000005845.2_ASM584v2_genomic.fna.gz’\n",
      "Resolving ftp.ncbi.nlm.nih.gov (ftp.ncbi.nlm.nih.gov)... 130.14.250.10, 130.14.250.11, 130.14.250.13, ...\n",
      "Connecting to ftp.ncbi.nlm.nih.gov (ftp.ncbi.nlm.nih.gov)|130.14.250.10|:21... connected.\n",
      "Logging in as anonymous ... Logged in!\n",
      "==> SYST ... done.    ==> PWD ... done.\n",
      "==> TYPE I ... done.  ==> CWD (1) /genomes/all/GCF/000/005/845/GCF_000005845.2_ASM584v2 ... done.\n",
      "==> SIZE GCF_000005845.2_ASM584v2_genomic.fna.gz ... 1379902\n",
      "==> PASV ... done.    ==> RETR GCF_000005845.2_ASM584v2_genomic.fna.gz ... done.\n",
      "Length: 1379902 (1.3M) (unauthoritative)\n",
      "\n",
      "     0K .......... .......... .......... .......... ..........  3%  292K 4s\n",
      "    50K .......... .......... .......... .......... ..........  7%  718K 3s\n",
      "   100K .......... .......... .......... .......... .......... 11% 9.05M 2s\n",
      "   150K .......... .......... .......... .......... .......... 14% 23.2M 1s\n",
      "   200K .......... .......... .......... .......... .......... 18%  699K 1s\n",
      "   250K .......... .......... .......... .......... .......... 22% 35.3M 1s\n",
      "   300K .......... .......... .......... .......... .......... 25% 42.9M 1s\n",
      "   350K .......... .......... .......... .......... .......... 29% 21.6M 1s\n",
      "   400K .......... .......... .......... .......... .......... 33%  754K 1s\n",
      "   450K .......... .......... .......... .......... .......... 37% 9.84M 1s\n",
      "   500K .......... .......... .......... .......... .......... 40% 6.61M 1s\n",
      "   550K .......... .......... .......... .......... .......... 44% 1000K 1s\n",
      "   600K .......... .......... .......... .......... .......... 48%  373M 0s\n",
      "   650K .......... .......... .......... .......... .......... 51% 44.6M 0s\n",
      "   700K .......... .......... .......... .......... .......... 55%  456M 0s\n",
      "   750K .......... .......... .......... .......... .......... 59% 1000K 0s\n",
      "   800K .......... .......... .......... .......... .......... 63%  974K 0s\n",
      "   850K .......... .......... .......... .......... .......... 66% 6.78M 0s\n",
      "   900K .......... .......... .......... .......... .......... 70% 5.04M 0s\n",
      "   950K .......... .......... .......... .......... .......... 74% 12.6M 0s\n",
      "  1000K .......... .......... .......... .......... .......... 77% 1000K 0s\n",
      "  1050K .......... .......... .......... .......... .......... 81% 44.5M 0s\n",
      "  1100K .......... .......... .......... .......... .......... 85% 80.0M 0s\n",
      "  1150K .......... .......... .......... .......... .......... 89% 58.4M 0s\n",
      "  1200K .......... .......... .......... .......... .......... 92% 48.0M 0s\n",
      "  1250K .......... .......... .......... .......... .......... 96%  131M 0s\n",
      "  1300K .......... .......... .......... .......... .......   100% 33.4M=0.5s\n",
      "\n",
      "2024-10-19 21:09:54 (2.73 MB/s) - ‘GCF_000005845.2_ASM584v2_genomic.fna.gz’ saved [1379902]\n",
      "\n"
     ]
    }
   ],
   "source": [
    "# download reference genomd\n",
    "ref_genome_url = 'ftp://ftp.ncbi.nlm.nih.gov/genomes/all/GCF/000/005/845/GCF_000005845.2_ASM584v2/GCF_000005845.2_ASM584v2_genomic.fna.gz'\n",
    "output_dir = '../reference_genome'\n",
    "\n",
    "get_reference_sequence(ref_genome_url, output_dir=output_dir)"
   ]
  },
  {
   "cell_type": "markdown",
   "metadata": {},
   "source": [
    "## Index Reference Genome\n",
    "\n",
    "We need to index the reference genome so that the alignment software can perform alignment with the trimmed, paired reads faster. If not, then it would have to linearly scan entire reference genome for every read.\n",
    "\n",
    "**Indexing Steps**:\n",
    "1. Break reference genome into subsequences\n",
    "2. Create hash table for the positions of these fragments\n",
    "3. Compress & store auxiliary data to optimize searching\n",
    "\n",
    "Index files allow alignment software to perform fast lookups and avoid linear searching for every read\n",
    "\n",
    "**Common Indexing Tools**:\n",
    "- BWA\n",
    "- Bowtie2\n",
    "- SAMtools"
   ]
  },
  {
   "cell_type": "code",
   "execution_count": 59,
   "metadata": {},
   "outputs": [],
   "source": [
    "def index_reference_genome(reference_genome: Union[str, Path], bwa_path: Union[str, Path]) -> None:\n",
    "    \"\"\"\n",
    "    Indexes a reference genome using BWA.\n",
    "\n",
    "    Parameters:\n",
    "        reference_genome (str or Path): Path to reference genome in FASTA format.\n",
    "        bwa_path (str or Path): Path to BWA executable\n",
    "    \n",
    "    Return:\n",
    "        None\n",
    "    \"\"\"\n",
    "    # ensure input FASTA file exists\n",
    "    reference_genome = Path(reference_genome)\n",
    "    if not reference_genome.is_file():\n",
    "        raise FileNotFoundError(f'FASTA file not found: {reference_genome}')\n",
    "    \n",
    "    # index command\n",
    "    cmd = f'{bwa_path} index {str(reference_genome)}'\n",
    "\n",
    "    # perform indexing\n",
    "    try:\n",
    "        print(f'Indexing reference genome: {reference_genome.name}')\n",
    "        subprocess.run(cmd, shell=True, check=True)\n",
    "    except subprocess.CalledProcessError as e:\n",
    "        print(f'Error during genome indexing: {e}')"
   ]
  },
  {
   "cell_type": "code",
   "execution_count": 58,
   "metadata": {},
   "outputs": [
    {
     "name": "stdout",
     "output_type": "stream",
     "text": [
      "Indexing reference genome: GCF_000005845.2_ASM584v2_genomic.fna\n"
     ]
    },
    {
     "name": "stderr",
     "output_type": "stream",
     "text": [
      "[bwa_index] Pack FASTA... 0.02 sec\n",
      "[bwa_index] Construct BWT for the packed sequence...\n",
      "[bwa_index] 0.50 seconds elapse.\n",
      "[bwa_index] Update BWT... 0.01 sec\n",
      "[bwa_index] Pack forward-only FASTA... 0.01 sec\n",
      "[bwa_index] Construct SA from BWT and Occ... 0.16 sec\n",
      "[main] Version: 0.7.18-r1243-dirty\n",
      "[main] CMD: /Users/akechi/Downloads/bwa/bwa index ../reference_genome/GCF_000005845.2_ASM584v2_genomic.fna\n",
      "[main] Real time: 0.697 sec; CPU: 0.699 sec\n"
     ]
    }
   ],
   "source": [
    "# index reference genome\n",
    "reference_genome = f'../reference_genome/GCF_000005845.2_ASM584v2_genomic.fna'\n",
    "bwa_path = Path.home() / 'Downloads/bwa/bwa'\n",
    "\n",
    "index_reference_genome(fasta_file=reference_genome, bwa_path=bwa_path)"
   ]
  },
  {
   "cell_type": "markdown",
   "metadata": {},
   "source": [
    "## Align The Reads To Reference Genome"
   ]
  },
  {
   "cell_type": "code",
   "execution_count": null,
   "metadata": {},
   "outputs": [],
   "source": [
    "def align_reads_with_bwa(reference_genome: Union[str, Path],\n",
    "                         read_1: Union[str, Path],\n",
    "                         read_2: Union[str, Path],\n",
    "                         output_file: Union[str, Path]='aligned.sam',\n",
    "                         bwa_path: Union[str, Path]='bwa') -> None:\n",
    "    \"\"\"\n",
    "    Aligns reads to reference genome using BWA-MEM\n",
    "\n",
    "    Parameters:\n",
    "        reference_genome (str or Path): Path to the INDEXED reference genome in FASTA format.\n",
    "        read_1 (str or Path): Path to the first FASTQ file (for single-ed or paired-end reads).\n",
    "        read_2 (str or Path): Path to the second FASTQ file (for paired-end reads).\n",
    "    \"\"\""
   ]
  }
 ],
 "metadata": {
  "kernelspec": {
   "display_name": "bio",
   "language": "python",
   "name": "python3"
  },
  "language_info": {
   "codemirror_mode": {
    "name": "ipython",
    "version": 3
   },
   "file_extension": ".py",
   "mimetype": "text/x-python",
   "name": "python",
   "nbconvert_exporter": "python",
   "pygments_lexer": "ipython3",
   "version": "3.11.9"
  }
 },
 "nbformat": 4,
 "nbformat_minor": 2
}
